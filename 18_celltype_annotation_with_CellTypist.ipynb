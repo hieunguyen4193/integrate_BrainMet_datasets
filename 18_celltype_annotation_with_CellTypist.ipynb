{
 "cells": [
  {
   "cell_type": "markdown",
   "id": "understood-farmer",
   "metadata": {
    "id": "understood-farmer",
    "tags": []
   },
   "source": [
    "# Using CellTypist for cell type classification\n",
    "This notebook showcases the cell type classification for scRNA-seq query data by retrieving the most likely cell type labels from either the built-in CellTypist models or the user-trained custom models."
   ]
  },
  {
   "cell_type": "markdown",
   "id": "exterior-thousand",
   "metadata": {
    "id": "exterior-thousand"
   },
   "source": [
    "Only the main steps and key parameters are introduced in this notebook. Refer to detailed [Usage](https://github.com/Teichlab/celltypist#usage) if you want to learn more."
   ]
  },
  {
   "cell_type": "markdown",
   "id": "assisted-clear",
   "metadata": {
    "id": "assisted-clear"
   },
   "source": [
    "## Install CellTypist"
   ]
  },
  {
   "cell_type": "code",
   "execution_count": null,
   "id": "automotive-traveler",
   "metadata": {
    "id": "automotive-traveler",
    "outputId": "a8d70665-5e19-45f8-dc7c-9fab216c65ab",
    "tags": []
   },
   "outputs": [
    {
     "name": "stdout",
     "output_type": "stream",
     "text": [
      "Collecting celltypist\n",
      "  Downloading celltypist-1.6.3-py3-none-any.whl.metadata (43 kB)\n",
      "\u001b[2K     \u001b[90m━━━━━━━━━━━━━━━━━━━━━━━━━━━━━━━━━━━━━━━\u001b[0m \u001b[32m43.7/43.7 kB\u001b[0m \u001b[31m580.7 kB/s\u001b[0m eta \u001b[36m0:00:00\u001b[0ma \u001b[36m0:00:01\u001b[0m\n",
      "\u001b[?25hRequirement already satisfied: numpy>=1.19.0 in /home/hieunguyen/miniconda3/envs/pytorch/lib/python3.9/site-packages (from celltypist) (1.26.4)\n",
      "Requirement already satisfied: pandas>=1.0.5 in /home/hieunguyen/miniconda3/envs/pytorch/lib/python3.9/site-packages (from celltypist) (2.2.2)\n",
      "Requirement already satisfied: scikit-learn>=0.24.1 in /home/hieunguyen/miniconda3/envs/pytorch/lib/python3.9/site-packages (from celltypist) (1.5.2)\n",
      "Requirement already satisfied: openpyxl>=3.0.4 in /home/hieunguyen/miniconda3/envs/pytorch/lib/python3.9/site-packages (from celltypist) (3.1.5)\n",
      "Collecting click>=7.1.2 (from celltypist)\n",
      "  Using cached click-8.1.8-py3-none-any.whl.metadata (2.3 kB)\n",
      "Requirement already satisfied: requests>=2.23.0 in /home/hieunguyen/miniconda3/envs/pytorch/lib/python3.9/site-packages (from celltypist) (2.32.2)\n",
      "Requirement already satisfied: scanpy>=1.7.0 in /home/hieunguyen/miniconda3/envs/pytorch/lib/python3.9/site-packages (from celltypist) (1.10.3)\n",
      "Requirement already satisfied: leidenalg>=0.9.0 in /home/hieunguyen/miniconda3/envs/pytorch/lib/python3.9/site-packages (from celltypist) (0.10.2)\n",
      "Requirement already satisfied: igraph<0.12,>=0.10.0 in /home/hieunguyen/miniconda3/envs/pytorch/lib/python3.9/site-packages (from leidenalg>=0.9.0->celltypist) (0.11.8)\n",
      "Requirement already satisfied: et-xmlfile in /home/hieunguyen/miniconda3/envs/pytorch/lib/python3.9/site-packages (from openpyxl>=3.0.4->celltypist) (1.1.0)\n",
      "Requirement already satisfied: python-dateutil>=2.8.2 in /home/hieunguyen/miniconda3/envs/pytorch/lib/python3.9/site-packages (from pandas>=1.0.5->celltypist) (2.9.0.post0)\n",
      "Requirement already satisfied: pytz>=2020.1 in /home/hieunguyen/miniconda3/envs/pytorch/lib/python3.9/site-packages (from pandas>=1.0.5->celltypist) (2024.1)\n",
      "Requirement already satisfied: tzdata>=2022.7 in /home/hieunguyen/miniconda3/envs/pytorch/lib/python3.9/site-packages (from pandas>=1.0.5->celltypist) (2024.1)\n",
      "Requirement already satisfied: charset-normalizer<4,>=2 in /home/hieunguyen/miniconda3/envs/pytorch/lib/python3.9/site-packages (from requests>=2.23.0->celltypist) (2.0.4)\n",
      "Requirement already satisfied: idna<4,>=2.5 in /home/hieunguyen/miniconda3/envs/pytorch/lib/python3.9/site-packages (from requests>=2.23.0->celltypist) (3.7)\n",
      "Requirement already satisfied: urllib3<3,>=1.21.1 in /home/hieunguyen/miniconda3/envs/pytorch/lib/python3.9/site-packages (from requests>=2.23.0->celltypist) (1.26.19)\n",
      "Requirement already satisfied: certifi>=2017.4.17 in /home/hieunguyen/miniconda3/envs/pytorch/lib/python3.9/site-packages (from requests>=2.23.0->celltypist) (2024.6.2)\n",
      "Requirement already satisfied: anndata>=0.8 in /home/hieunguyen/miniconda3/envs/pytorch/lib/python3.9/site-packages (from scanpy>=1.7.0->celltypist) (0.10.9)\n",
      "Requirement already satisfied: get-annotations in /home/hieunguyen/miniconda3/envs/pytorch/lib/python3.9/site-packages (from scanpy>=1.7.0->celltypist) (0.1.2)\n",
      "Requirement already satisfied: h5py>=3.1 in /home/hieunguyen/miniconda3/envs/pytorch/lib/python3.9/site-packages (from scanpy>=1.7.0->celltypist) (3.13.0)\n",
      "Requirement already satisfied: joblib in /home/hieunguyen/miniconda3/envs/pytorch/lib/python3.9/site-packages (from scanpy>=1.7.0->celltypist) (1.4.2)\n",
      "Requirement already satisfied: legacy-api-wrap>=1.4 in /home/hieunguyen/miniconda3/envs/pytorch/lib/python3.9/site-packages (from scanpy>=1.7.0->celltypist) (1.4.1)\n",
      "Requirement already satisfied: matplotlib>=3.6 in /home/hieunguyen/miniconda3/envs/pytorch/lib/python3.9/site-packages (from scanpy>=1.7.0->celltypist) (3.9.2)\n",
      "Requirement already satisfied: natsort in /home/hieunguyen/miniconda3/envs/pytorch/lib/python3.9/site-packages (from scanpy>=1.7.0->celltypist) (8.4.0)\n",
      "Requirement already satisfied: networkx>=2.7 in /home/hieunguyen/miniconda3/envs/pytorch/lib/python3.9/site-packages (from scanpy>=1.7.0->celltypist) (3.2.1)\n",
      "Requirement already satisfied: numba>=0.56 in /home/hieunguyen/miniconda3/envs/pytorch/lib/python3.9/site-packages (from scanpy>=1.7.0->celltypist) (0.60.0)\n",
      "Requirement already satisfied: packaging>=21.3 in /home/hieunguyen/miniconda3/envs/pytorch/lib/python3.9/site-packages (from scanpy>=1.7.0->celltypist) (24.1)\n",
      "Requirement already satisfied: patsy in /home/hieunguyen/miniconda3/envs/pytorch/lib/python3.9/site-packages (from scanpy>=1.7.0->celltypist) (1.0.1)\n",
      "Requirement already satisfied: pynndescent>=0.5 in /home/hieunguyen/miniconda3/envs/pytorch/lib/python3.9/site-packages (from scanpy>=1.7.0->celltypist) (0.5.13)\n",
      "Requirement already satisfied: scipy>=1.8 in /home/hieunguyen/miniconda3/envs/pytorch/lib/python3.9/site-packages (from scanpy>=1.7.0->celltypist) (1.13.1)\n",
      "Requirement already satisfied: seaborn>=0.13 in /home/hieunguyen/miniconda3/envs/pytorch/lib/python3.9/site-packages (from scanpy>=1.7.0->celltypist) (0.13.2)\n",
      "Requirement already satisfied: session-info in /home/hieunguyen/miniconda3/envs/pytorch/lib/python3.9/site-packages (from scanpy>=1.7.0->celltypist) (1.0.1)\n",
      "Requirement already satisfied: statsmodels>=0.13 in /home/hieunguyen/miniconda3/envs/pytorch/lib/python3.9/site-packages (from scanpy>=1.7.0->celltypist) (0.14.4)\n",
      "Requirement already satisfied: tqdm in /home/hieunguyen/miniconda3/envs/pytorch/lib/python3.9/site-packages (from scanpy>=1.7.0->celltypist) (4.66.4)\n",
      "Requirement already satisfied: umap-learn!=0.5.0,>=0.5 in /home/hieunguyen/miniconda3/envs/pytorch/lib/python3.9/site-packages (from scanpy>=1.7.0->celltypist) (0.5.7)\n",
      "Requirement already satisfied: threadpoolctl>=3.1.0 in /home/hieunguyen/miniconda3/envs/pytorch/lib/python3.9/site-packages (from scikit-learn>=0.24.1->celltypist) (3.5.0)\n",
      "Requirement already satisfied: array-api-compat!=1.5,>1.4 in /home/hieunguyen/miniconda3/envs/pytorch/lib/python3.9/site-packages (from anndata>=0.8->scanpy>=1.7.0->celltypist) (1.11.2)\n",
      "Requirement already satisfied: exceptiongroup in /home/hieunguyen/miniconda3/envs/pytorch/lib/python3.9/site-packages (from anndata>=0.8->scanpy>=1.7.0->celltypist) (1.2.1)\n",
      "Requirement already satisfied: texttable>=1.6.2 in /home/hieunguyen/miniconda3/envs/pytorch/lib/python3.9/site-packages (from igraph<0.12,>=0.10.0->leidenalg>=0.9.0->celltypist) (1.7.0)\n",
      "Requirement already satisfied: contourpy>=1.0.1 in /home/hieunguyen/miniconda3/envs/pytorch/lib/python3.9/site-packages (from matplotlib>=3.6->scanpy>=1.7.0->celltypist) (1.3.0)\n",
      "Requirement already satisfied: cycler>=0.10 in /home/hieunguyen/miniconda3/envs/pytorch/lib/python3.9/site-packages (from matplotlib>=3.6->scanpy>=1.7.0->celltypist) (0.12.1)\n",
      "Requirement already satisfied: fonttools>=4.22.0 in /home/hieunguyen/miniconda3/envs/pytorch/lib/python3.9/site-packages (from matplotlib>=3.6->scanpy>=1.7.0->celltypist) (4.53.1)\n",
      "Requirement already satisfied: kiwisolver>=1.3.1 in /home/hieunguyen/miniconda3/envs/pytorch/lib/python3.9/site-packages (from matplotlib>=3.6->scanpy>=1.7.0->celltypist) (1.4.7)\n",
      "Requirement already satisfied: pillow>=8 in /home/hieunguyen/miniconda3/envs/pytorch/lib/python3.9/site-packages (from matplotlib>=3.6->scanpy>=1.7.0->celltypist) (10.3.0)\n",
      "Requirement already satisfied: pyparsing>=2.3.1 in /home/hieunguyen/miniconda3/envs/pytorch/lib/python3.9/site-packages (from matplotlib>=3.6->scanpy>=1.7.0->celltypist) (3.1.4)\n",
      "Requirement already satisfied: importlib-resources>=3.2.0 in /home/hieunguyen/miniconda3/envs/pytorch/lib/python3.9/site-packages (from matplotlib>=3.6->scanpy>=1.7.0->celltypist) (6.4.4)\n",
      "Requirement already satisfied: llvmlite<0.44,>=0.43.0dev0 in /home/hieunguyen/miniconda3/envs/pytorch/lib/python3.9/site-packages (from numba>=0.56->scanpy>=1.7.0->celltypist) (0.43.0)\n",
      "Requirement already satisfied: six>=1.5 in /home/hieunguyen/miniconda3/envs/pytorch/lib/python3.9/site-packages (from python-dateutil>=2.8.2->pandas>=1.0.5->celltypist) (1.16.0)\n",
      "Requirement already satisfied: stdlib_list in /home/hieunguyen/miniconda3/envs/pytorch/lib/python3.9/site-packages (from session-info->scanpy>=1.7.0->celltypist) (0.11.1)\n",
      "Requirement already satisfied: zipp>=3.1.0 in /home/hieunguyen/miniconda3/envs/pytorch/lib/python3.9/site-packages (from importlib-resources>=3.2.0->matplotlib>=3.6->scanpy>=1.7.0->celltypist) (3.19.2)\n",
      "Downloading celltypist-1.6.3-py3-none-any.whl (7.3 MB)\n",
      "\u001b[2K   \u001b[91m━━━━━━━━━━━━━━━━━━━━━━━━━━━━━━━━━\u001b[0m\u001b[91m╸\u001b[0m\u001b[90m━━━━━━\u001b[0m \u001b[32m6.2/7.3 MB\u001b[0m \u001b[31m2.5 MB/s\u001b[0m eta \u001b[36m0:00:01\u001b[0m"
     ]
    }
   ],
   "source": [
    "!pip install celltypist"
   ]
  },
  {
   "cell_type": "code",
   "execution_count": null,
   "id": "organized-wedding",
   "metadata": {
    "id": "organized-wedding"
   },
   "outputs": [],
   "source": [
    "import scanpy as sc"
   ]
  },
  {
   "cell_type": "code",
   "execution_count": null,
   "id": "intelligent-standard",
   "metadata": {
    "id": "intelligent-standard"
   },
   "outputs": [],
   "source": [
    "import celltypist\n",
    "from celltypist import models"
   ]
  },
  {
   "cell_type": "markdown",
   "id": "julian-banana",
   "metadata": {
    "id": "julian-banana"
   },
   "source": [
    "## Download a scRNA-seq dataset of 2,000 immune cells"
   ]
  },
  {
   "cell_type": "code",
   "execution_count": null,
   "id": "naval-seminar",
   "metadata": {
    "colab": {
     "referenced_widgets": [
      "c469cfcd41b541659147f8bf0f362444"
     ]
    },
    "id": "naval-seminar",
    "outputId": "0c5655c6-b3fa-4a57-ccd6-6ba7f0bebc9f",
    "tags": []
   },
   "outputs": [],
   "source": [
    "# adata_2000 = sc.read('celltypist_demo_folder/demo_2000_cells.h5ad', backup_url = 'https://celltypist.cog.sanger.ac.uk/Notebook_demo_data/demo_2000_cells.h5ad')\n",
    "adata_2000 = sc.read(\"/media/hieunguyen/GSHD_HN01/outdir/BrainMet_SeuratV5/integrate_BrainMet_datasets/integrated_v0.2/seurat2anndata/from_12_output/integrated_BrainMet_dataset.output.s8/integrated_BrainMet_dataset.output.s8_harmony.cluster.0.5.h5ad\")"
   ]
  },
  {
   "cell_type": "markdown",
   "id": "passive-classics",
   "metadata": {
    "id": "passive-classics"
   },
   "source": [
    "This dataset includes 2,000 cells and 18,950 genes collected from different studies, thereby showing the practical applicability of CellTypist."
   ]
  },
  {
   "cell_type": "code",
   "execution_count": null,
   "id": "sensitive-chancellor",
   "metadata": {
    "id": "sensitive-chancellor",
    "outputId": "5d4a9979-828f-484f-bc89-4867982ffc5a"
   },
   "outputs": [],
   "source": [
    "adata_2000.shape"
   ]
  },
  {
   "cell_type": "markdown",
   "id": "destroyed-distribution",
   "metadata": {
    "id": "destroyed-distribution",
    "tags": []
   },
   "source": [
    "The expression matrix (`adata_2000.X`) is pre-processed (and required) as log1p normalised expression to 10,000 counts per cell (this matrix can be alternatively stashed in `.raw.X`)."
   ]
  },
  {
   "cell_type": "code",
   "execution_count": null,
   "id": "sized-grocery",
   "metadata": {
    "id": "sized-grocery",
    "outputId": "e52c2657-afe2-479c-beb5-ee2f317e4e7c",
    "tags": []
   },
   "outputs": [],
   "source": [
    "adata_2000.X.expm1().sum(axis = 1)"
   ]
  },
  {
   "cell_type": "markdown",
   "id": "approximate-excerpt",
   "metadata": {
    "id": "approximate-excerpt"
   },
   "source": [
    "Some pre-assigned cell type labels are also in the data, which will be compared to the predicted labels from CellTypist later."
   ]
  },
  {
   "cell_type": "code",
   "execution_count": null,
   "id": "downtown-arbitration",
   "metadata": {
    "id": "downtown-arbitration",
    "outputId": "57b0a0c5-6d5a-4971-f02f-66223a7d6c0c",
    "tags": []
   },
   "outputs": [],
   "source": [
    "adata_2000.obs"
   ]
  },
  {
   "cell_type": "markdown",
   "id": "economic-penny",
   "metadata": {
    "id": "economic-penny"
   },
   "source": [
    "## Assign cell type labels using a CellTypist built-in model\n",
    "In this section, we show the procedure of transferring cell type labels from built-in models to the query dataset."
   ]
  },
  {
   "cell_type": "markdown",
   "id": "quick-stanford",
   "metadata": {
    "id": "quick-stanford"
   },
   "source": [
    "Download the latest CellTypist models."
   ]
  },
  {
   "cell_type": "code",
   "execution_count": null,
   "id": "premier-measurement",
   "metadata": {
    "id": "premier-measurement",
    "outputId": "3ba5d46e-0be7-4466-cebe-5b1b5589c74e",
    "tags": []
   },
   "outputs": [],
   "source": [
    "# Enabling `force_update = True` will overwrite existing (old) models.\n",
    "models.download_models(force_update = True)"
   ]
  },
  {
   "cell_type": "markdown",
   "id": "stuck-judges",
   "metadata": {
    "id": "stuck-judges"
   },
   "source": [
    "All models are stored in `models.models_path`."
   ]
  },
  {
   "cell_type": "code",
   "execution_count": null,
   "id": "above-length",
   "metadata": {
    "id": "above-length",
    "outputId": "b5cca87a-aab3-42af-98c6-a850e785dc29"
   },
   "outputs": [],
   "source": [
    "models.models_path"
   ]
  },
  {
   "cell_type": "markdown",
   "id": "understanding-slovak",
   "metadata": {
    "id": "understanding-slovak"
   },
   "source": [
    "Get an overview of the models and what they represent."
   ]
  },
  {
   "cell_type": "code",
   "execution_count": null,
   "id": "breeding-grace",
   "metadata": {
    "id": "breeding-grace",
    "outputId": "42735dea-63b3-417d-926e-d26679d70f0e",
    "tags": []
   },
   "outputs": [],
   "source": [
    "models.models_description()"
   ]
  },
  {
   "cell_type": "markdown",
   "id": "tribal-broadway",
   "metadata": {
    "id": "tribal-broadway"
   },
   "source": [
    "Choose the model you want to employ, for example, the model with all tissues combined containing low-hierarchy (high-resolution) immune cell types/subtypes."
   ]
  },
  {
   "cell_type": "code",
   "execution_count": null,
   "id": "boring-challenge",
   "metadata": {
    "id": "boring-challenge"
   },
   "outputs": [],
   "source": [
    "# Indeed, the `model` argument defaults to `Immune_All_Low.pkl`.\n",
    "model = models.Model.load(model = 'Immune_All_Low.pkl')"
   ]
  },
  {
   "cell_type": "markdown",
   "id": "lovely-advisory",
   "metadata": {
    "id": "lovely-advisory"
   },
   "source": [
    "Show the model meta information."
   ]
  },
  {
   "cell_type": "code",
   "execution_count": null,
   "id": "anticipated-picking",
   "metadata": {
    "id": "anticipated-picking",
    "outputId": "f5d09f43-63cd-49c0-f7d5-398c10b4317c"
   },
   "outputs": [],
   "source": [
    "model"
   ]
  },
  {
   "cell_type": "markdown",
   "id": "exterior-driving",
   "metadata": {
    "id": "exterior-driving"
   },
   "source": [
    "This model contains 98 cell states."
   ]
  },
  {
   "cell_type": "code",
   "execution_count": null,
   "id": "hundred-receipt",
   "metadata": {
    "id": "hundred-receipt",
    "outputId": "926b6872-9199-44cd-f27e-5184ee630dcc",
    "tags": []
   },
   "outputs": [],
   "source": [
    "model.cell_types"
   ]
  },
  {
   "cell_type": "markdown",
   "id": "entertaining-sensitivity",
   "metadata": {
    "id": "entertaining-sensitivity",
    "tags": []
   },
   "source": [
    "Transfer cell type labels from this model to the query dataset using [celltypist.annotate](https://celltypist.readthedocs.io/en/latest/celltypist.annotate.html)."
   ]
  },
  {
   "cell_type": "code",
   "execution_count": null,
   "id": "postal-chicken",
   "metadata": {
    "id": "postal-chicken",
    "outputId": "fcb88b30-128e-4b34-84d2-ea6983c53672",
    "tags": []
   },
   "outputs": [],
   "source": [
    "# Not run; predict cell identities using this loaded model.\n",
    "#predictions = celltypist.annotate(adata_2000, model = model, majority_voting = True)\n",
    "# Alternatively, just specify the model name (recommended as this ensures the model is intact every time it is loaded).\n",
    "predictions = celltypist.annotate(adata_2000, model = 'Immune_All_Low.pkl', majority_voting = True)"
   ]
  },
  {
   "cell_type": "markdown",
   "id": "personal-marijuana",
   "metadata": {
    "id": "personal-marijuana"
   },
   "source": [
    "By default (`majority_voting = False`), CellTypist will infer the identity of each query cell independently. This leads to raw predicted cell type labels, and usually finishes within seconds or minutes depending on the size of the query data. You can also turn on the majority-voting classifier (`majority_voting = True`), which refines cell identities within local subclusters after an over-clustering approach at the cost of increased runtime."
   ]
  },
  {
   "cell_type": "markdown",
   "id": "future-finder",
   "metadata": {
    "id": "future-finder",
    "tags": []
   },
   "source": [
    "The results include both predicted cell type labels (`predicted_labels`), over-clustering result (`over_clustering`), and predicted labels after majority voting in local subclusters (`majority_voting`). Note in the `predicted_labels`, each query cell gets its inferred label by choosing the most probable cell type among all possible cell types in the given model."
   ]
  },
  {
   "cell_type": "code",
   "execution_count": null,
   "id": "expired-authorization",
   "metadata": {
    "id": "expired-authorization",
    "outputId": "7c8cc89d-b512-4473-ab1c-a679ae03cd64",
    "tags": []
   },
   "outputs": [],
   "source": [
    "predictions.predicted_labels"
   ]
  },
  {
   "cell_type": "markdown",
   "id": "separated-first",
   "metadata": {
    "id": "separated-first"
   },
   "source": [
    "Transform the prediction result into an `AnnData`."
   ]
  },
  {
   "cell_type": "code",
   "execution_count": null,
   "id": "sharing-router",
   "metadata": {
    "id": "sharing-router"
   },
   "outputs": [],
   "source": [
    "# Get an `AnnData` with predicted labels embedded into the cell metadata columns.\n",
    "adata = predictions.to_adata()"
   ]
  },
  {
   "cell_type": "markdown",
   "id": "varying-characteristic",
   "metadata": {
    "id": "varying-characteristic"
   },
   "source": [
    "Compared to `adata_2000`, the new `adata` has additional prediction information in `adata.obs` (`predicted_labels`, `over_clustering`, `majority_voting` and `conf_score`). Of note, all these columns can be prefixed with a specific string by setting `prefix` in [to_adata](https://celltypist.readthedocs.io/en/latest/celltypist.classifier.AnnotationResult.html#celltypist.classifier.AnnotationResult.to_adata)."
   ]
  },
  {
   "cell_type": "code",
   "execution_count": null,
   "id": "virgin-export",
   "metadata": {
    "id": "virgin-export",
    "outputId": "04adbf20-73c6-4081-82fb-81562e2facff",
    "tags": []
   },
   "outputs": [],
   "source": [
    "adata.obs"
   ]
  },
  {
   "cell_type": "markdown",
   "id": "knowing-steps",
   "metadata": {
    "id": "knowing-steps"
   },
   "source": [
    "In addition to this meta information added, the neighborhood graph constructed during over-clustering is also stored in the `adata`\n",
    "(If a pre-calculated neighborhood graph is already present in the `AnnData`, this graph construction step will be skipped).  \n",
    "This graph can be used to derive the cell embeddings, such as the UMAP coordinates."
   ]
  },
  {
   "cell_type": "code",
   "execution_count": null,
   "id": "decimal-sweden",
   "metadata": {
    "id": "decimal-sweden"
   },
   "outputs": [],
   "source": [
    "# If the UMAP or any cell embeddings are already available in the `AnnData`, skip this command.\n",
    "sc.tl.umap(adata)"
   ]
  },
  {
   "cell_type": "markdown",
   "id": "effective-terrain",
   "metadata": {
    "id": "effective-terrain"
   },
   "source": [
    "Visualise the prediction results."
   ]
  },
  {
   "cell_type": "code",
   "execution_count": null,
   "id": "tough-insider",
   "metadata": {
    "id": "tough-insider",
    "outputId": "7c5233fb-0986-4c5d-fb19-7fbfc0c8c820",
    "tags": []
   },
   "outputs": [],
   "source": [
    "sc.pl.umap(adata, color = ['cell_type', 'predicted_labels', 'majority_voting'], legend_loc = 'on data')"
   ]
  },
  {
   "cell_type": "markdown",
   "id": "julian-mobile",
   "metadata": {
    "id": "julian-mobile"
   },
   "source": [
    "Actually, you may not need to explicitly convert `predictions` output by `celltypist.annotate` into an `AnnData` as above. A more useful way is to use the visualisation function [celltypist.dotplot](https://celltypist.readthedocs.io/en/latest/celltypist.dotplot.html), which quantitatively compares the CellTypist prediction result (e.g. `majority_voting` here) with the cell types pre-defined in the `AnnData` (here `cell_type`). You can also change the value of `use_as_prediction` to `predicted_labels` to compare the raw prediction result with the pre-defined cell types."
   ]
  },
  {
   "cell_type": "code",
   "execution_count": null,
   "id": "solved-weekly",
   "metadata": {
    "id": "solved-weekly",
    "outputId": "cee23ecd-1beb-4d82-baad-6c456ab7dfdf"
   },
   "outputs": [],
   "source": [
    "celltypist.dotplot(predictions, use_as_reference = 'cell_type', use_as_prediction = 'majority_voting')"
   ]
  },
  {
   "cell_type": "markdown",
   "id": "metallic-saskatchewan",
   "metadata": {
    "id": "metallic-saskatchewan"
   },
   "source": [
    "For each pre-defined cell type (each column from the dot plot), this plot shows how it can be 'decomposed' into different cell types predicted by CellTypist (rows)."
   ]
  },
  {
   "cell_type": "markdown",
   "id": "tender-maple",
   "metadata": {
    "id": "tender-maple"
   },
   "source": [
    "## Assign cell type labels using a custom model\n",
    "In this section, we show the procedure of generating a custom model and transferring labels from the model to the query data."
   ]
  },
  {
   "cell_type": "markdown",
   "id": "protected-counter",
   "metadata": {
    "id": "protected-counter",
    "tags": []
   },
   "source": [
    "Use previously downloaded dataset of 2,000 immune cells as the training set."
   ]
  },
  {
   "cell_type": "code",
   "execution_count": null,
   "id": "rotary-record",
   "metadata": {
    "id": "rotary-record"
   },
   "outputs": [],
   "source": [
    "adata_2000 = sc.read('celltypist_demo_folder/demo_2000_cells.h5ad', backup_url = 'https://celltypist.cog.sanger.ac.uk/Notebook_demo_data/demo_2000_cells.h5ad')"
   ]
  },
  {
   "cell_type": "markdown",
   "id": "headed-sierra",
   "metadata": {
    "id": "headed-sierra"
   },
   "source": [
    "Download another scRNA-seq dataset of 400 immune cells as a query."
   ]
  },
  {
   "cell_type": "code",
   "execution_count": null,
   "id": "closing-brain",
   "metadata": {
    "colab": {
     "referenced_widgets": [
      "60bb1bc2c899444ea88095e6713a8686"
     ]
    },
    "id": "closing-brain",
    "outputId": "92e03cf7-aab1-44e9-e4e3-998ed4455d6b"
   },
   "outputs": [],
   "source": [
    "adata_400 = sc.read('celltypist_demo_folder/demo_400_cells.h5ad', backup_url = 'https://celltypist.cog.sanger.ac.uk/Notebook_demo_data/demo_400_cells.h5ad')"
   ]
  },
  {
   "cell_type": "markdown",
   "id": "precise-bronze",
   "metadata": {
    "id": "precise-bronze",
    "tags": []
   },
   "source": [
    "Derive a custom model by training the data using the [celltypist.train](https://celltypist.readthedocs.io/en/latest/celltypist.train.html) function."
   ]
  },
  {
   "cell_type": "code",
   "execution_count": null,
   "id": "consistent-detective",
   "metadata": {
    "id": "consistent-detective",
    "outputId": "2101b273-233c-4b41-d391-e9b55d42c132",
    "tags": []
   },
   "outputs": [],
   "source": [
    "# The `cell_type` in `adata_2000.obs` will be used as cell type labels for training.\n",
    "new_model = celltypist.train(adata_2000, labels = 'cell_type', n_jobs = 10, feature_selection = True)"
   ]
  },
  {
   "cell_type": "markdown",
   "id": "remarkable-eating",
   "metadata": {
    "id": "remarkable-eating"
   },
   "source": [
    "Refer to the function [celltypist.train](https://celltypist.readthedocs.io/en/latest/celltypist.train.html) for what each parameter means, and to the [usage](https://github.com/Teichlab/celltypist#usage) for details of model training."
   ]
  },
  {
   "cell_type": "markdown",
   "id": "emerging-telephone",
   "metadata": {
    "id": "emerging-telephone"
   },
   "source": [
    "This custom model can be manipulated as with other CellTypist built-in models. First, save this model locally."
   ]
  },
  {
   "cell_type": "code",
   "execution_count": null,
   "id": "informal-ladder",
   "metadata": {
    "id": "informal-ladder"
   },
   "outputs": [],
   "source": [
    "# Save the model.\n",
    "new_model.write('celltypist_demo_folder/model_from_immune2000.pkl')"
   ]
  },
  {
   "cell_type": "markdown",
   "id": "sublime-oxygen",
   "metadata": {
    "id": "sublime-oxygen",
    "tags": []
   },
   "source": [
    "You can load this model by `models.Model.load`."
   ]
  },
  {
   "cell_type": "code",
   "execution_count": null,
   "id": "little-textbook",
   "metadata": {
    "id": "little-textbook"
   },
   "outputs": [],
   "source": [
    "new_model = models.Model.load('celltypist_demo_folder/model_from_immune2000.pkl')"
   ]
  },
  {
   "cell_type": "markdown",
   "id": "weighted-system",
   "metadata": {
    "id": "weighted-system"
   },
   "source": [
    "Next, we use this model to predict the query dataset of 400 immune cells."
   ]
  },
  {
   "cell_type": "code",
   "execution_count": null,
   "id": "forty-turning",
   "metadata": {
    "id": "forty-turning",
    "outputId": "a9e0b954-36f4-433f-8a07-00de88a8db04",
    "tags": []
   },
   "outputs": [],
   "source": [
    "# Not run; predict the identity of each input cell with the new model.\n",
    "#predictions = celltypist.annotate(adata_400, model = new_model, majority_voting = True)\n",
    "# Alternatively, just specify the model path (recommended as this ensures the model is intact every time it is loaded).\n",
    "predictions = celltypist.annotate(adata_400, model = 'celltypist_demo_folder/model_from_immune2000.pkl', majority_voting = True)"
   ]
  },
  {
   "cell_type": "code",
   "execution_count": null,
   "id": "liquid-happiness",
   "metadata": {
    "id": "liquid-happiness"
   },
   "outputs": [],
   "source": [
    "adata = predictions.to_adata()"
   ]
  },
  {
   "cell_type": "code",
   "execution_count": null,
   "id": "utility-sussex",
   "metadata": {
    "id": "utility-sussex"
   },
   "outputs": [],
   "source": [
    "sc.tl.umap(adata)"
   ]
  },
  {
   "cell_type": "code",
   "execution_count": null,
   "id": "sought-adult",
   "metadata": {
    "id": "sought-adult",
    "outputId": "28b9d1f3-8f2d-4e6b-83d4-9ac53bcfee55",
    "tags": []
   },
   "outputs": [],
   "source": [
    "sc.pl.umap(adata, color = ['cell_type', 'predicted_labels', 'majority_voting'], legend_loc = 'on data')"
   ]
  },
  {
   "cell_type": "code",
   "execution_count": null,
   "id": "liberal-strengthening",
   "metadata": {
    "id": "liberal-strengthening",
    "outputId": "912fc526-36f5-4605-b2ab-52366a909133"
   },
   "outputs": [],
   "source": [
    "celltypist.dotplot(predictions, use_as_reference = 'cell_type', use_as_prediction = 'majority_voting')"
   ]
  },
  {
   "cell_type": "markdown",
   "id": "australian-cherry",
   "metadata": {
    "id": "australian-cherry"
   },
   "source": [
    "## Examine expression of cell type-driving genes"
   ]
  },
  {
   "cell_type": "markdown",
   "id": "southern-female",
   "metadata": {
    "id": "southern-female"
   },
   "source": [
    "Each model can be examined in terms of the driving genes for each cell type. Note these genes are only dependent on the model, say, the training dataset."
   ]
  },
  {
   "cell_type": "code",
   "execution_count": null,
   "id": "liable-liechtenstein",
   "metadata": {
    "id": "liable-liechtenstein",
    "tags": []
   },
   "outputs": [],
   "source": [
    "# Any model can be inspected.\n",
    "# Here we load the previously saved model trained from 2,000 immune cells.\n",
    "model = models.Model.load(model = 'celltypist_demo_folder/model_from_immune2000.pkl')"
   ]
  },
  {
   "cell_type": "code",
   "execution_count": null,
   "id": "available-victor",
   "metadata": {
    "id": "available-victor",
    "outputId": "7fa134ae-dbf2-4838-a90d-c7ef441586a2"
   },
   "outputs": [],
   "source": [
    "model.cell_types"
   ]
  },
  {
   "cell_type": "markdown",
   "id": "pharmaceutical-remains",
   "metadata": {
    "id": "pharmaceutical-remains",
    "tags": []
   },
   "source": [
    "Extract the top three driving genes of `Mast cells` using the [extract_top_markers](https://celltypist.readthedocs.io/en/latest/celltypist.models.Model.html#celltypist.models.Model.extract_top_markers) method."
   ]
  },
  {
   "cell_type": "code",
   "execution_count": null,
   "id": "interracial-clone",
   "metadata": {
    "id": "interracial-clone",
    "outputId": "26de00d3-69f3-4a16-a77d-77faa041c8f6",
    "tags": []
   },
   "outputs": [],
   "source": [
    "top_3_genes = model.extract_top_markers(\"Mast cells\", 3)\n",
    "top_3_genes"
   ]
  },
  {
   "cell_type": "code",
   "execution_count": null,
   "id": "sealed-percentage",
   "metadata": {
    "id": "sealed-percentage",
    "outputId": "936bf259-2fa6-452c-83d5-913b98e9eb28",
    "tags": []
   },
   "outputs": [],
   "source": [
    "# Check expression of the three genes in the training set.\n",
    "sc.pl.violin(adata_2000, top_3_genes, groupby = 'cell_type', rotation = 90)"
   ]
  },
  {
   "cell_type": "code",
   "execution_count": null,
   "id": "yellow-prompt",
   "metadata": {
    "id": "yellow-prompt",
    "outputId": "560dc5ef-9daa-4ce3-aedd-795611016585"
   },
   "outputs": [],
   "source": [
    "# Check expression of the three genes in the query set.\n",
    "# Here we use `majority_voting` from CellTypist as the cell type labels for this dataset.\n",
    "sc.pl.violin(adata_400, top_3_genes, groupby = 'majority_voting', rotation = 90)"
   ]
  }
 ],
 "metadata": {
  "colab": {
   "provenance": []
  },
  "kernelspec": {
   "display_name": "pytorch",
   "language": "python",
   "name": "python3"
  },
  "language_info": {
   "codemirror_mode": {
    "name": "ipython",
    "version": 3
   },
   "file_extension": ".py",
   "mimetype": "text/x-python",
   "name": "python",
   "nbconvert_exporter": "python",
   "pygments_lexer": "ipython3",
   "version": "3.9.19"
  }
 },
 "nbformat": 4,
 "nbformat_minor": 5
}
