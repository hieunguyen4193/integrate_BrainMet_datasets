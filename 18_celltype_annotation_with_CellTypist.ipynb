{
 "cells": [
  {
   "cell_type": "markdown",
   "id": "understood-farmer",
   "metadata": {
    "id": "understood-farmer",
    "tags": []
   },
   "source": [
    "# Using CellTypist for cell type classification\n",
    "This notebook showcases the cell type classification for scRNA-seq query data by retrieving the most likely cell type labels from either the built-in CellTypist models or the user-trained custom models."
   ]
  },
  {
   "cell_type": "markdown",
   "id": "exterior-thousand",
   "metadata": {
    "id": "exterior-thousand"
   },
   "source": [
    "Only the main steps and key parameters are introduced in this notebook. Refer to detailed [Usage](https://github.com/Teichlab/celltypist#usage) if you want to learn more."
   ]
  },
  {
   "cell_type": "markdown",
   "id": "assisted-clear",
   "metadata": {
    "id": "assisted-clear"
   },
   "source": [
    "## Install CellTypist"
   ]
  },
  {
   "cell_type": "code",
   "execution_count": 19,
   "id": "automotive-traveler",
   "metadata": {
    "id": "automotive-traveler",
    "outputId": "a8d70665-5e19-45f8-dc7c-9fab216c65ab",
    "tags": []
   },
   "outputs": [
    {
     "name": "stdout",
     "output_type": "stream",
     "text": [
      "Requirement already satisfied: celltypist in /home/hieunguyen/miniconda3/envs/pytorch/lib/python3.9/site-packages (1.6.3)\n",
      "Requirement already satisfied: numpy>=1.19.0 in /home/hieunguyen/miniconda3/envs/pytorch/lib/python3.9/site-packages (from celltypist) (1.26.4)\n",
      "Requirement already satisfied: pandas>=1.0.5 in /home/hieunguyen/miniconda3/envs/pytorch/lib/python3.9/site-packages (from celltypist) (2.2.2)\n",
      "Requirement already satisfied: scikit-learn>=0.24.1 in /home/hieunguyen/miniconda3/envs/pytorch/lib/python3.9/site-packages (from celltypist) (1.5.2)\n",
      "Requirement already satisfied: openpyxl>=3.0.4 in /home/hieunguyen/miniconda3/envs/pytorch/lib/python3.9/site-packages (from celltypist) (3.1.5)\n",
      "Requirement already satisfied: click>=7.1.2 in /home/hieunguyen/miniconda3/envs/pytorch/lib/python3.9/site-packages (from celltypist) (8.1.8)\n",
      "Requirement already satisfied: requests>=2.23.0 in /home/hieunguyen/miniconda3/envs/pytorch/lib/python3.9/site-packages (from celltypist) (2.32.2)\n",
      "Requirement already satisfied: scanpy>=1.7.0 in /home/hieunguyen/miniconda3/envs/pytorch/lib/python3.9/site-packages (from celltypist) (1.10.3)\n",
      "Requirement already satisfied: leidenalg>=0.9.0 in /home/hieunguyen/miniconda3/envs/pytorch/lib/python3.9/site-packages (from celltypist) (0.10.2)\n",
      "Requirement already satisfied: igraph<0.12,>=0.10.0 in /home/hieunguyen/miniconda3/envs/pytorch/lib/python3.9/site-packages (from leidenalg>=0.9.0->celltypist) (0.11.8)\n",
      "Requirement already satisfied: et-xmlfile in /home/hieunguyen/miniconda3/envs/pytorch/lib/python3.9/site-packages (from openpyxl>=3.0.4->celltypist) (1.1.0)\n",
      "Requirement already satisfied: python-dateutil>=2.8.2 in /home/hieunguyen/miniconda3/envs/pytorch/lib/python3.9/site-packages (from pandas>=1.0.5->celltypist) (2.9.0.post0)\n",
      "Requirement already satisfied: pytz>=2020.1 in /home/hieunguyen/miniconda3/envs/pytorch/lib/python3.9/site-packages (from pandas>=1.0.5->celltypist) (2024.1)\n",
      "Requirement already satisfied: tzdata>=2022.7 in /home/hieunguyen/miniconda3/envs/pytorch/lib/python3.9/site-packages (from pandas>=1.0.5->celltypist) (2024.1)\n",
      "Requirement already satisfied: charset-normalizer<4,>=2 in /home/hieunguyen/miniconda3/envs/pytorch/lib/python3.9/site-packages (from requests>=2.23.0->celltypist) (2.0.4)\n",
      "Requirement already satisfied: idna<4,>=2.5 in /home/hieunguyen/miniconda3/envs/pytorch/lib/python3.9/site-packages (from requests>=2.23.0->celltypist) (3.7)\n",
      "Requirement already satisfied: urllib3<3,>=1.21.1 in /home/hieunguyen/miniconda3/envs/pytorch/lib/python3.9/site-packages (from requests>=2.23.0->celltypist) (1.26.19)\n",
      "Requirement already satisfied: certifi>=2017.4.17 in /home/hieunguyen/miniconda3/envs/pytorch/lib/python3.9/site-packages (from requests>=2.23.0->celltypist) (2024.6.2)\n",
      "Requirement already satisfied: anndata>=0.8 in /home/hieunguyen/miniconda3/envs/pytorch/lib/python3.9/site-packages (from scanpy>=1.7.0->celltypist) (0.10.9)\n",
      "Requirement already satisfied: get-annotations in /home/hieunguyen/miniconda3/envs/pytorch/lib/python3.9/site-packages (from scanpy>=1.7.0->celltypist) (0.1.2)\n",
      "Requirement already satisfied: h5py>=3.1 in /home/hieunguyen/miniconda3/envs/pytorch/lib/python3.9/site-packages (from scanpy>=1.7.0->celltypist) (3.13.0)\n",
      "Requirement already satisfied: joblib in /home/hieunguyen/miniconda3/envs/pytorch/lib/python3.9/site-packages (from scanpy>=1.7.0->celltypist) (1.4.2)\n",
      "Requirement already satisfied: legacy-api-wrap>=1.4 in /home/hieunguyen/miniconda3/envs/pytorch/lib/python3.9/site-packages (from scanpy>=1.7.0->celltypist) (1.4.1)\n",
      "Requirement already satisfied: matplotlib>=3.6 in /home/hieunguyen/miniconda3/envs/pytorch/lib/python3.9/site-packages (from scanpy>=1.7.0->celltypist) (3.9.2)\n",
      "Requirement already satisfied: natsort in /home/hieunguyen/miniconda3/envs/pytorch/lib/python3.9/site-packages (from scanpy>=1.7.0->celltypist) (8.4.0)\n",
      "Requirement already satisfied: networkx>=2.7 in /home/hieunguyen/miniconda3/envs/pytorch/lib/python3.9/site-packages (from scanpy>=1.7.0->celltypist) (3.2.1)\n",
      "Requirement already satisfied: numba>=0.56 in /home/hieunguyen/miniconda3/envs/pytorch/lib/python3.9/site-packages (from scanpy>=1.7.0->celltypist) (0.60.0)\n",
      "Requirement already satisfied: packaging>=21.3 in /home/hieunguyen/miniconda3/envs/pytorch/lib/python3.9/site-packages (from scanpy>=1.7.0->celltypist) (24.1)\n",
      "Requirement already satisfied: patsy in /home/hieunguyen/miniconda3/envs/pytorch/lib/python3.9/site-packages (from scanpy>=1.7.0->celltypist) (1.0.1)\n",
      "Requirement already satisfied: pynndescent>=0.5 in /home/hieunguyen/miniconda3/envs/pytorch/lib/python3.9/site-packages (from scanpy>=1.7.0->celltypist) (0.5.13)\n",
      "Requirement already satisfied: scipy>=1.8 in /home/hieunguyen/miniconda3/envs/pytorch/lib/python3.9/site-packages (from scanpy>=1.7.0->celltypist) (1.13.1)\n",
      "Requirement already satisfied: seaborn>=0.13 in /home/hieunguyen/miniconda3/envs/pytorch/lib/python3.9/site-packages (from scanpy>=1.7.0->celltypist) (0.13.2)\n",
      "Requirement already satisfied: session-info in /home/hieunguyen/miniconda3/envs/pytorch/lib/python3.9/site-packages (from scanpy>=1.7.0->celltypist) (1.0.1)\n",
      "Requirement already satisfied: statsmodels>=0.13 in /home/hieunguyen/miniconda3/envs/pytorch/lib/python3.9/site-packages (from scanpy>=1.7.0->celltypist) (0.14.4)\n",
      "Requirement already satisfied: tqdm in /home/hieunguyen/miniconda3/envs/pytorch/lib/python3.9/site-packages (from scanpy>=1.7.0->celltypist) (4.66.4)\n",
      "Requirement already satisfied: umap-learn!=0.5.0,>=0.5 in /home/hieunguyen/miniconda3/envs/pytorch/lib/python3.9/site-packages (from scanpy>=1.7.0->celltypist) (0.5.7)\n",
      "Requirement already satisfied: threadpoolctl>=3.1.0 in /home/hieunguyen/miniconda3/envs/pytorch/lib/python3.9/site-packages (from scikit-learn>=0.24.1->celltypist) (3.5.0)\n",
      "Requirement already satisfied: array-api-compat!=1.5,>1.4 in /home/hieunguyen/miniconda3/envs/pytorch/lib/python3.9/site-packages (from anndata>=0.8->scanpy>=1.7.0->celltypist) (1.11.2)\n",
      "Requirement already satisfied: exceptiongroup in /home/hieunguyen/miniconda3/envs/pytorch/lib/python3.9/site-packages (from anndata>=0.8->scanpy>=1.7.0->celltypist) (1.2.1)\n",
      "Requirement already satisfied: texttable>=1.6.2 in /home/hieunguyen/miniconda3/envs/pytorch/lib/python3.9/site-packages (from igraph<0.12,>=0.10.0->leidenalg>=0.9.0->celltypist) (1.7.0)\n",
      "Requirement already satisfied: contourpy>=1.0.1 in /home/hieunguyen/miniconda3/envs/pytorch/lib/python3.9/site-packages (from matplotlib>=3.6->scanpy>=1.7.0->celltypist) (1.3.0)\n",
      "Requirement already satisfied: cycler>=0.10 in /home/hieunguyen/miniconda3/envs/pytorch/lib/python3.9/site-packages (from matplotlib>=3.6->scanpy>=1.7.0->celltypist) (0.12.1)\n",
      "Requirement already satisfied: fonttools>=4.22.0 in /home/hieunguyen/miniconda3/envs/pytorch/lib/python3.9/site-packages (from matplotlib>=3.6->scanpy>=1.7.0->celltypist) (4.53.1)\n",
      "Requirement already satisfied: kiwisolver>=1.3.1 in /home/hieunguyen/miniconda3/envs/pytorch/lib/python3.9/site-packages (from matplotlib>=3.6->scanpy>=1.7.0->celltypist) (1.4.7)\n",
      "Requirement already satisfied: pillow>=8 in /home/hieunguyen/miniconda3/envs/pytorch/lib/python3.9/site-packages (from matplotlib>=3.6->scanpy>=1.7.0->celltypist) (10.3.0)\n",
      "Requirement already satisfied: pyparsing>=2.3.1 in /home/hieunguyen/miniconda3/envs/pytorch/lib/python3.9/site-packages (from matplotlib>=3.6->scanpy>=1.7.0->celltypist) (3.1.4)\n",
      "Requirement already satisfied: importlib-resources>=3.2.0 in /home/hieunguyen/miniconda3/envs/pytorch/lib/python3.9/site-packages (from matplotlib>=3.6->scanpy>=1.7.0->celltypist) (6.4.4)\n",
      "Requirement already satisfied: llvmlite<0.44,>=0.43.0dev0 in /home/hieunguyen/miniconda3/envs/pytorch/lib/python3.9/site-packages (from numba>=0.56->scanpy>=1.7.0->celltypist) (0.43.0)\n",
      "Requirement already satisfied: six>=1.5 in /home/hieunguyen/miniconda3/envs/pytorch/lib/python3.9/site-packages (from python-dateutil>=2.8.2->pandas>=1.0.5->celltypist) (1.16.0)\n",
      "Requirement already satisfied: stdlib_list in /home/hieunguyen/miniconda3/envs/pytorch/lib/python3.9/site-packages (from session-info->scanpy>=1.7.0->celltypist) (0.11.1)\n",
      "Requirement already satisfied: zipp>=3.1.0 in /home/hieunguyen/miniconda3/envs/pytorch/lib/python3.9/site-packages (from importlib-resources>=3.2.0->matplotlib>=3.6->scanpy>=1.7.0->celltypist) (3.19.2)\n"
     ]
    }
   ],
   "source": [
    "!pip install celltypist"
   ]
  },
  {
   "cell_type": "code",
   "execution_count": 20,
   "id": "organized-wedding",
   "metadata": {
    "id": "organized-wedding"
   },
   "outputs": [],
   "source": [
    "import scanpy as sc"
   ]
  },
  {
   "cell_type": "code",
   "execution_count": 21,
   "id": "intelligent-standard",
   "metadata": {
    "id": "intelligent-standard"
   },
   "outputs": [],
   "source": [
    "import celltypist\n",
    "from celltypist import models"
   ]
  },
  {
   "cell_type": "markdown",
   "id": "julian-banana",
   "metadata": {
    "id": "julian-banana"
   },
   "source": [
    "## Download a scRNA-seq dataset of 2,000 immune cells"
   ]
  },
  {
   "cell_type": "code",
   "execution_count": 22,
   "id": "naval-seminar",
   "metadata": {
    "colab": {
     "referenced_widgets": [
      "c469cfcd41b541659147f8bf0f362444"
     ]
    },
    "id": "naval-seminar",
    "outputId": "0c5655c6-b3fa-4a57-ccd6-6ba7f0bebc9f",
    "tags": []
   },
   "outputs": [
    {
     "name": "stdout",
     "output_type": "stream",
     "text": [
      "WARNING: Your filename has more than two extensions: ['.output', '.s8_harmony', '.cluster', '.0', '.5', '.h5ad'].\n",
      "Only considering the two last: ['.5', '.h5ad'].\n",
      "WARNING: Your filename has more than two extensions: ['.output', '.s8_harmony', '.cluster', '.0', '.5', '.h5ad'].\n",
      "Only considering the two last: ['.5', '.h5ad'].\n",
      "WARNING: Your filename has more than two extensions: ['.output', '.s8_harmony', '.cluster', '.0', '.5', '.h5ad'].\n",
      "Only considering the two last: ['.5', '.h5ad'].\n"
     ]
    }
   ],
   "source": [
    "# adata_2000 = sc.read('celltypist_demo_folder/demo_2000_cells.h5ad', backup_url = 'https://celltypist.cog.sanger.ac.uk/Notebook_demo_data/demo_2000_cells.h5ad')\n",
    "adata_2000 = sc.read(\"/media/hieunguyen/GSHD_HN01/outdir/BrainMet_SeuratV5/integrate_BrainMet_datasets/integrated_v0.2/seurat2anndata/from_12_output/integrated_BrainMet_dataset.output.s8/integrated_BrainMet_dataset.output.s8_harmony.cluster.0.5.h5ad\")"
   ]
  },
  {
   "cell_type": "markdown",
   "id": "passive-classics",
   "metadata": {
    "id": "passive-classics"
   },
   "source": [
    "This dataset includes 2,000 cells and 18,950 genes collected from different studies, thereby showing the practical applicability of CellTypist."
   ]
  },
  {
   "cell_type": "code",
   "execution_count": 23,
   "id": "sensitive-chancellor",
   "metadata": {
    "id": "sensitive-chancellor",
    "outputId": "5d4a9979-828f-484f-bc89-4867982ffc5a"
   },
   "outputs": [
    {
     "data": {
      "text/plain": [
       "(46258, 20514)"
      ]
     },
     "execution_count": 23,
     "metadata": {},
     "output_type": "execute_result"
    }
   ],
   "source": [
    "adata_2000.shape"
   ]
  },
  {
   "cell_type": "markdown",
   "id": "destroyed-distribution",
   "metadata": {
    "id": "destroyed-distribution",
    "tags": []
   },
   "source": [
    "The expression matrix (`adata_2000.X`) is pre-processed (and required) as log1p normalised expression to 10,000 counts per cell (this matrix can be alternatively stashed in `.raw.X`)."
   ]
  },
  {
   "cell_type": "code",
   "execution_count": 24,
   "id": "sized-grocery",
   "metadata": {
    "id": "sized-grocery",
    "outputId": "e52c2657-afe2-479c-beb5-ee2f317e4e7c",
    "tags": []
   },
   "outputs": [
    {
     "data": {
      "text/plain": [
       "matrix([[3030.],\n",
       "        [3101.],\n",
       "        [2905.],\n",
       "        ...,\n",
       "        [3956.],\n",
       "        [4751.],\n",
       "        [4408.]])"
      ]
     },
     "execution_count": 24,
     "metadata": {},
     "output_type": "execute_result"
    }
   ],
   "source": [
    "adata_2000.X.expm1().sum(axis = 1)"
   ]
  },
  {
   "cell_type": "markdown",
   "id": "approximate-excerpt",
   "metadata": {
    "id": "approximate-excerpt"
   },
   "source": [
    "Some pre-assigned cell type labels are also in the data, which will be compared to the predicted labels from CellTypist later."
   ]
  },
  {
   "cell_type": "code",
   "execution_count": 25,
   "id": "downtown-arbitration",
   "metadata": {
    "id": "downtown-arbitration",
    "outputId": "57b0a0c5-6d5a-4971-f02f-66223a7d6c0c",
    "tags": []
   },
   "outputs": [
    {
     "data": {
      "text/html": [
       "<div>\n",
       "<style scoped>\n",
       "    .dataframe tbody tr th:only-of-type {\n",
       "        vertical-align: middle;\n",
       "    }\n",
       "\n",
       "    .dataframe tbody tr th {\n",
       "        vertical-align: top;\n",
       "    }\n",
       "\n",
       "    .dataframe thead th {\n",
       "        text-align: right;\n",
       "    }\n",
       "</style>\n",
       "<table border=\"1\" class=\"dataframe\">\n",
       "  <thead>\n",
       "    <tr style=\"text-align: right;\">\n",
       "      <th></th>\n",
       "      <th>orig.ident</th>\n",
       "      <th>nCount_RNA</th>\n",
       "      <th>nFeature_RNA</th>\n",
       "      <th>name</th>\n",
       "      <th>stage</th>\n",
       "      <th>percent.mt</th>\n",
       "      <th>percent.ribo</th>\n",
       "      <th>No.Exprs</th>\n",
       "      <th>log10GenesPerUMI</th>\n",
       "      <th>nCount_decontX</th>\n",
       "      <th>...</th>\n",
       "      <th>PrimaryTumor</th>\n",
       "      <th>nCount_SCT</th>\n",
       "      <th>nFeature_SCT</th>\n",
       "      <th>cca.cluster.0.5</th>\n",
       "      <th>seurat_clusters</th>\n",
       "      <th>rpca.cluster.0.5</th>\n",
       "      <th>harmony.cluster.0.5</th>\n",
       "      <th>barcode</th>\n",
       "      <th>UMAP_1</th>\n",
       "      <th>UMAP_2</th>\n",
       "    </tr>\n",
       "    <tr>\n",
       "      <th>barcode</th>\n",
       "      <th></th>\n",
       "      <th></th>\n",
       "      <th></th>\n",
       "      <th></th>\n",
       "      <th></th>\n",
       "      <th></th>\n",
       "      <th></th>\n",
       "      <th></th>\n",
       "      <th></th>\n",
       "      <th></th>\n",
       "      <th></th>\n",
       "      <th></th>\n",
       "      <th></th>\n",
       "      <th></th>\n",
       "      <th></th>\n",
       "      <th></th>\n",
       "      <th></th>\n",
       "      <th></th>\n",
       "      <th></th>\n",
       "      <th></th>\n",
       "      <th></th>\n",
       "    </tr>\n",
       "  </thead>\n",
       "  <tbody>\n",
       "    <tr>\n",
       "      <th>AAACCTGTCTTTAGTC_NS_02</th>\n",
       "      <td>BrainMet_SeuratV5_GSE131907_NS_02</td>\n",
       "      <td>3152</td>\n",
       "      <td>1297</td>\n",
       "      <td>NS_02</td>\n",
       "      <td>GSE131907_NS_02</td>\n",
       "      <td>3.458122</td>\n",
       "      <td>22.747462</td>\n",
       "      <td>1</td>\n",
       "      <td>0.889771</td>\n",
       "      <td>2972.026068</td>\n",
       "      <td>...</td>\n",
       "      <td>NaN</td>\n",
       "      <td>3030</td>\n",
       "      <td>1288</td>\n",
       "      <td>7</td>\n",
       "      <td>10</td>\n",
       "      <td>6</td>\n",
       "      <td>10</td>\n",
       "      <td>AAACCTGTCTTTAGTC_NS_02</td>\n",
       "      <td>6.517687</td>\n",
       "      <td>4.592167</td>\n",
       "    </tr>\n",
       "    <tr>\n",
       "      <th>AAACGGGAGCTTTGGT_NS_02</th>\n",
       "      <td>BrainMet_SeuratV5_GSE131907_NS_02</td>\n",
       "      <td>3361</td>\n",
       "      <td>1223</td>\n",
       "      <td>NS_02</td>\n",
       "      <td>GSE131907_NS_02</td>\n",
       "      <td>3.332342</td>\n",
       "      <td>22.909848</td>\n",
       "      <td>1</td>\n",
       "      <td>0.875501</td>\n",
       "      <td>3143.914241</td>\n",
       "      <td>...</td>\n",
       "      <td>NaN</td>\n",
       "      <td>3101</td>\n",
       "      <td>1218</td>\n",
       "      <td>0</td>\n",
       "      <td>12</td>\n",
       "      <td>0</td>\n",
       "      <td>12</td>\n",
       "      <td>AAACGGGAGCTTTGGT_NS_02</td>\n",
       "      <td>-3.119733</td>\n",
       "      <td>6.495010</td>\n",
       "    </tr>\n",
       "    <tr>\n",
       "      <th>AAACGGGCATACGCCG_NS_02</th>\n",
       "      <td>BrainMet_SeuratV5_GSE131907_NS_02</td>\n",
       "      <td>2910</td>\n",
       "      <td>1030</td>\n",
       "      <td>NS_02</td>\n",
       "      <td>GSE131907_NS_02</td>\n",
       "      <td>3.573883</td>\n",
       "      <td>31.030928</td>\n",
       "      <td>1</td>\n",
       "      <td>0.869784</td>\n",
       "      <td>2792.763364</td>\n",
       "      <td>...</td>\n",
       "      <td>NaN</td>\n",
       "      <td>2905</td>\n",
       "      <td>1024</td>\n",
       "      <td>4</td>\n",
       "      <td>3</td>\n",
       "      <td>0</td>\n",
       "      <td>3</td>\n",
       "      <td>AAACGGGCATACGCCG_NS_02</td>\n",
       "      <td>-3.296767</td>\n",
       "      <td>0.531751</td>\n",
       "    </tr>\n",
       "    <tr>\n",
       "      <th>AAAGATGAGAGGTAGA_NS_02</th>\n",
       "      <td>BrainMet_SeuratV5_GSE131907_NS_02</td>\n",
       "      <td>3634</td>\n",
       "      <td>1117</td>\n",
       "      <td>NS_02</td>\n",
       "      <td>GSE131907_NS_02</td>\n",
       "      <td>2.394056</td>\n",
       "      <td>38.580077</td>\n",
       "      <td>1</td>\n",
       "      <td>0.856102</td>\n",
       "      <td>3430.073606</td>\n",
       "      <td>...</td>\n",
       "      <td>NaN</td>\n",
       "      <td>3165</td>\n",
       "      <td>1108</td>\n",
       "      <td>1</td>\n",
       "      <td>1</td>\n",
       "      <td>1</td>\n",
       "      <td>1</td>\n",
       "      <td>AAAGATGAGAGGTAGA_NS_02</td>\n",
       "      <td>-2.616868</td>\n",
       "      <td>-2.451068</td>\n",
       "    </tr>\n",
       "    <tr>\n",
       "      <th>AAAGATGAGGCGTACA_NS_02</th>\n",
       "      <td>BrainMet_SeuratV5_GSE131907_NS_02</td>\n",
       "      <td>2789</td>\n",
       "      <td>992</td>\n",
       "      <td>NS_02</td>\n",
       "      <td>GSE131907_NS_02</td>\n",
       "      <td>2.832556</td>\n",
       "      <td>29.006812</td>\n",
       "      <td>1</td>\n",
       "      <td>0.869701</td>\n",
       "      <td>2588.613492</td>\n",
       "      <td>...</td>\n",
       "      <td>NaN</td>\n",
       "      <td>2866</td>\n",
       "      <td>990</td>\n",
       "      <td>0</td>\n",
       "      <td>0</td>\n",
       "      <td>0</td>\n",
       "      <td>0</td>\n",
       "      <td>AAAGATGAGGCGTACA_NS_02</td>\n",
       "      <td>-6.262387</td>\n",
       "      <td>3.076460</td>\n",
       "    </tr>\n",
       "    <tr>\n",
       "      <th>...</th>\n",
       "      <td>...</td>\n",
       "      <td>...</td>\n",
       "      <td>...</td>\n",
       "      <td>...</td>\n",
       "      <td>...</td>\n",
       "      <td>...</td>\n",
       "      <td>...</td>\n",
       "      <td>...</td>\n",
       "      <td>...</td>\n",
       "      <td>...</td>\n",
       "      <td>...</td>\n",
       "      <td>...</td>\n",
       "      <td>...</td>\n",
       "      <td>...</td>\n",
       "      <td>...</td>\n",
       "      <td>...</td>\n",
       "      <td>...</td>\n",
       "      <td>...</td>\n",
       "      <td>...</td>\n",
       "      <td>...</td>\n",
       "      <td>...</td>\n",
       "    </tr>\n",
       "    <tr>\n",
       "      <th>GSE193745_GSE193745_TTTGCGCCATGTAAGA-1_17</th>\n",
       "      <td>GSE193745</td>\n",
       "      <td>6524</td>\n",
       "      <td>2005</td>\n",
       "      <td>merge17samples</td>\n",
       "      <td>NaN</td>\n",
       "      <td>1.486818</td>\n",
       "      <td>6.100552</td>\n",
       "      <td>1</td>\n",
       "      <td>0.865671</td>\n",
       "      <td>6508.388275</td>\n",
       "      <td>...</td>\n",
       "      <td>Melanoma</td>\n",
       "      <td>4466</td>\n",
       "      <td>1959</td>\n",
       "      <td>3</td>\n",
       "      <td>6</td>\n",
       "      <td>8</td>\n",
       "      <td>6</td>\n",
       "      <td>GSE193745_GSE193745_TTTGCGCCATGTAAGA-1_17</td>\n",
       "      <td>6.989755</td>\n",
       "      <td>-1.927703</td>\n",
       "    </tr>\n",
       "    <tr>\n",
       "      <th>GSE193745_GSE193745_TTTGCGCGTCGCATCG-1_17</th>\n",
       "      <td>GSE193745</td>\n",
       "      <td>15939</td>\n",
       "      <td>4273</td>\n",
       "      <td>merge17samples</td>\n",
       "      <td>NaN</td>\n",
       "      <td>3.507121</td>\n",
       "      <td>18.301023</td>\n",
       "      <td>1</td>\n",
       "      <td>0.863954</td>\n",
       "      <td>15289.379068</td>\n",
       "      <td>...</td>\n",
       "      <td>Melanoma</td>\n",
       "      <td>4060</td>\n",
       "      <td>1946</td>\n",
       "      <td>6</td>\n",
       "      <td>3</td>\n",
       "      <td>0</td>\n",
       "      <td>3</td>\n",
       "      <td>GSE193745_GSE193745_TTTGCGCGTCGCATCG-1_17</td>\n",
       "      <td>-4.178997</td>\n",
       "      <td>0.325401</td>\n",
       "    </tr>\n",
       "    <tr>\n",
       "      <th>GSE193745_GSE193745_TTTGGTTAGGTGTTAA-1_17</th>\n",
       "      <td>GSE193745</td>\n",
       "      <td>13440</td>\n",
       "      <td>3335</td>\n",
       "      <td>merge17samples</td>\n",
       "      <td>NaN</td>\n",
       "      <td>3.005952</td>\n",
       "      <td>18.080357</td>\n",
       "      <td>1</td>\n",
       "      <td>0.853381</td>\n",
       "      <td>10514.332278</td>\n",
       "      <td>...</td>\n",
       "      <td>Melanoma</td>\n",
       "      <td>3956</td>\n",
       "      <td>1496</td>\n",
       "      <td>10</td>\n",
       "      <td>7</td>\n",
       "      <td>8</td>\n",
       "      <td>7</td>\n",
       "      <td>GSE193745_GSE193745_TTTGGTTAGGTGTTAA-1_17</td>\n",
       "      <td>10.318720</td>\n",
       "      <td>-1.993642</td>\n",
       "    </tr>\n",
       "    <tr>\n",
       "      <th>GSE193745_GSE193745_TTTGGTTCAAATACAG-1_17</th>\n",
       "      <td>GSE193745</td>\n",
       "      <td>9480</td>\n",
       "      <td>3083</td>\n",
       "      <td>merge17samples</td>\n",
       "      <td>NaN</td>\n",
       "      <td>4.641350</td>\n",
       "      <td>16.529536</td>\n",
       "      <td>1</td>\n",
       "      <td>0.877330</td>\n",
       "      <td>9379.084767</td>\n",
       "      <td>...</td>\n",
       "      <td>Melanoma</td>\n",
       "      <td>4751</td>\n",
       "      <td>2542</td>\n",
       "      <td>2</td>\n",
       "      <td>4</td>\n",
       "      <td>3</td>\n",
       "      <td>4</td>\n",
       "      <td>GSE193745_GSE193745_TTTGGTTCAAATACAG-1_17</td>\n",
       "      <td>-6.674124</td>\n",
       "      <td>-1.595920</td>\n",
       "    </tr>\n",
       "    <tr>\n",
       "      <th>GSE193745_GSE193745_TTTGGTTGTAGCCTCG-1_17</th>\n",
       "      <td>GSE193745</td>\n",
       "      <td>5172</td>\n",
       "      <td>1909</td>\n",
       "      <td>merge17samples</td>\n",
       "      <td>NaN</td>\n",
       "      <td>2.610209</td>\n",
       "      <td>8.333333</td>\n",
       "      <td>1</td>\n",
       "      <td>0.883443</td>\n",
       "      <td>4954.718482</td>\n",
       "      <td>...</td>\n",
       "      <td>Melanoma</td>\n",
       "      <td>4408</td>\n",
       "      <td>1906</td>\n",
       "      <td>3</td>\n",
       "      <td>6</td>\n",
       "      <td>8</td>\n",
       "      <td>6</td>\n",
       "      <td>GSE193745_GSE193745_TTTGGTTGTAGCCTCG-1_17</td>\n",
       "      <td>7.007161</td>\n",
       "      <td>-2.004806</td>\n",
       "    </tr>\n",
       "  </tbody>\n",
       "</table>\n",
       "<p>46258 rows × 23 columns</p>\n",
       "</div>"
      ],
      "text/plain": [
       "                                                                  orig.ident  \\\n",
       "barcode                                                                        \n",
       "AAACCTGTCTTTAGTC_NS_02                     BrainMet_SeuratV5_GSE131907_NS_02   \n",
       "AAACGGGAGCTTTGGT_NS_02                     BrainMet_SeuratV5_GSE131907_NS_02   \n",
       "AAACGGGCATACGCCG_NS_02                     BrainMet_SeuratV5_GSE131907_NS_02   \n",
       "AAAGATGAGAGGTAGA_NS_02                     BrainMet_SeuratV5_GSE131907_NS_02   \n",
       "AAAGATGAGGCGTACA_NS_02                     BrainMet_SeuratV5_GSE131907_NS_02   \n",
       "...                                                                      ...   \n",
       "GSE193745_GSE193745_TTTGCGCCATGTAAGA-1_17                          GSE193745   \n",
       "GSE193745_GSE193745_TTTGCGCGTCGCATCG-1_17                          GSE193745   \n",
       "GSE193745_GSE193745_TTTGGTTAGGTGTTAA-1_17                          GSE193745   \n",
       "GSE193745_GSE193745_TTTGGTTCAAATACAG-1_17                          GSE193745   \n",
       "GSE193745_GSE193745_TTTGGTTGTAGCCTCG-1_17                          GSE193745   \n",
       "\n",
       "                                           nCount_RNA  nFeature_RNA  \\\n",
       "barcode                                                               \n",
       "AAACCTGTCTTTAGTC_NS_02                           3152          1297   \n",
       "AAACGGGAGCTTTGGT_NS_02                           3361          1223   \n",
       "AAACGGGCATACGCCG_NS_02                           2910          1030   \n",
       "AAAGATGAGAGGTAGA_NS_02                           3634          1117   \n",
       "AAAGATGAGGCGTACA_NS_02                           2789           992   \n",
       "...                                               ...           ...   \n",
       "GSE193745_GSE193745_TTTGCGCCATGTAAGA-1_17        6524          2005   \n",
       "GSE193745_GSE193745_TTTGCGCGTCGCATCG-1_17       15939          4273   \n",
       "GSE193745_GSE193745_TTTGGTTAGGTGTTAA-1_17       13440          3335   \n",
       "GSE193745_GSE193745_TTTGGTTCAAATACAG-1_17        9480          3083   \n",
       "GSE193745_GSE193745_TTTGGTTGTAGCCTCG-1_17        5172          1909   \n",
       "\n",
       "                                                     name            stage  \\\n",
       "barcode                                                                      \n",
       "AAACCTGTCTTTAGTC_NS_02                              NS_02  GSE131907_NS_02   \n",
       "AAACGGGAGCTTTGGT_NS_02                              NS_02  GSE131907_NS_02   \n",
       "AAACGGGCATACGCCG_NS_02                              NS_02  GSE131907_NS_02   \n",
       "AAAGATGAGAGGTAGA_NS_02                              NS_02  GSE131907_NS_02   \n",
       "AAAGATGAGGCGTACA_NS_02                              NS_02  GSE131907_NS_02   \n",
       "...                                                   ...              ...   \n",
       "GSE193745_GSE193745_TTTGCGCCATGTAAGA-1_17  merge17samples              NaN   \n",
       "GSE193745_GSE193745_TTTGCGCGTCGCATCG-1_17  merge17samples              NaN   \n",
       "GSE193745_GSE193745_TTTGGTTAGGTGTTAA-1_17  merge17samples              NaN   \n",
       "GSE193745_GSE193745_TTTGGTTCAAATACAG-1_17  merge17samples              NaN   \n",
       "GSE193745_GSE193745_TTTGGTTGTAGCCTCG-1_17  merge17samples              NaN   \n",
       "\n",
       "                                           percent.mt  percent.ribo  No.Exprs  \\\n",
       "barcode                                                                         \n",
       "AAACCTGTCTTTAGTC_NS_02                       3.458122     22.747462         1   \n",
       "AAACGGGAGCTTTGGT_NS_02                       3.332342     22.909848         1   \n",
       "AAACGGGCATACGCCG_NS_02                       3.573883     31.030928         1   \n",
       "AAAGATGAGAGGTAGA_NS_02                       2.394056     38.580077         1   \n",
       "AAAGATGAGGCGTACA_NS_02                       2.832556     29.006812         1   \n",
       "...                                               ...           ...       ...   \n",
       "GSE193745_GSE193745_TTTGCGCCATGTAAGA-1_17    1.486818      6.100552         1   \n",
       "GSE193745_GSE193745_TTTGCGCGTCGCATCG-1_17    3.507121     18.301023         1   \n",
       "GSE193745_GSE193745_TTTGGTTAGGTGTTAA-1_17    3.005952     18.080357         1   \n",
       "GSE193745_GSE193745_TTTGGTTCAAATACAG-1_17    4.641350     16.529536         1   \n",
       "GSE193745_GSE193745_TTTGGTTGTAGCCTCG-1_17    2.610209      8.333333         1   \n",
       "\n",
       "                                           log10GenesPerUMI  nCount_decontX  \\\n",
       "barcode                                                                       \n",
       "AAACCTGTCTTTAGTC_NS_02                             0.889771     2972.026068   \n",
       "AAACGGGAGCTTTGGT_NS_02                             0.875501     3143.914241   \n",
       "AAACGGGCATACGCCG_NS_02                             0.869784     2792.763364   \n",
       "AAAGATGAGAGGTAGA_NS_02                             0.856102     3430.073606   \n",
       "AAAGATGAGGCGTACA_NS_02                             0.869701     2588.613492   \n",
       "...                                                     ...             ...   \n",
       "GSE193745_GSE193745_TTTGCGCCATGTAAGA-1_17          0.865671     6508.388275   \n",
       "GSE193745_GSE193745_TTTGCGCGTCGCATCG-1_17          0.863954    15289.379068   \n",
       "GSE193745_GSE193745_TTTGGTTAGGTGTTAA-1_17          0.853381    10514.332278   \n",
       "GSE193745_GSE193745_TTTGGTTCAAATACAG-1_17          0.877330     9379.084767   \n",
       "GSE193745_GSE193745_TTTGGTTGTAGCCTCG-1_17          0.883443     4954.718482   \n",
       "\n",
       "                                           ...  PrimaryTumor  nCount_SCT  \\\n",
       "barcode                                    ...                             \n",
       "AAACCTGTCTTTAGTC_NS_02                     ...           NaN        3030   \n",
       "AAACGGGAGCTTTGGT_NS_02                     ...           NaN        3101   \n",
       "AAACGGGCATACGCCG_NS_02                     ...           NaN        2905   \n",
       "AAAGATGAGAGGTAGA_NS_02                     ...           NaN        3165   \n",
       "AAAGATGAGGCGTACA_NS_02                     ...           NaN        2866   \n",
       "...                                        ...           ...         ...   \n",
       "GSE193745_GSE193745_TTTGCGCCATGTAAGA-1_17  ...      Melanoma        4466   \n",
       "GSE193745_GSE193745_TTTGCGCGTCGCATCG-1_17  ...      Melanoma        4060   \n",
       "GSE193745_GSE193745_TTTGGTTAGGTGTTAA-1_17  ...      Melanoma        3956   \n",
       "GSE193745_GSE193745_TTTGGTTCAAATACAG-1_17  ...      Melanoma        4751   \n",
       "GSE193745_GSE193745_TTTGGTTGTAGCCTCG-1_17  ...      Melanoma        4408   \n",
       "\n",
       "                                           nFeature_SCT cca.cluster.0.5  \\\n",
       "barcode                                                                   \n",
       "AAACCTGTCTTTAGTC_NS_02                             1288               7   \n",
       "AAACGGGAGCTTTGGT_NS_02                             1218               0   \n",
       "AAACGGGCATACGCCG_NS_02                             1024               4   \n",
       "AAAGATGAGAGGTAGA_NS_02                             1108               1   \n",
       "AAAGATGAGGCGTACA_NS_02                              990               0   \n",
       "...                                                 ...             ...   \n",
       "GSE193745_GSE193745_TTTGCGCCATGTAAGA-1_17          1959               3   \n",
       "GSE193745_GSE193745_TTTGCGCGTCGCATCG-1_17          1946               6   \n",
       "GSE193745_GSE193745_TTTGGTTAGGTGTTAA-1_17          1496              10   \n",
       "GSE193745_GSE193745_TTTGGTTCAAATACAG-1_17          2542               2   \n",
       "GSE193745_GSE193745_TTTGGTTGTAGCCTCG-1_17          1906               3   \n",
       "\n",
       "                                           seurat_clusters  rpca.cluster.0.5  \\\n",
       "barcode                                                                        \n",
       "AAACCTGTCTTTAGTC_NS_02                                  10                 6   \n",
       "AAACGGGAGCTTTGGT_NS_02                                  12                 0   \n",
       "AAACGGGCATACGCCG_NS_02                                   3                 0   \n",
       "AAAGATGAGAGGTAGA_NS_02                                   1                 1   \n",
       "AAAGATGAGGCGTACA_NS_02                                   0                 0   \n",
       "...                                                    ...               ...   \n",
       "GSE193745_GSE193745_TTTGCGCCATGTAAGA-1_17                6                 8   \n",
       "GSE193745_GSE193745_TTTGCGCGTCGCATCG-1_17                3                 0   \n",
       "GSE193745_GSE193745_TTTGGTTAGGTGTTAA-1_17                7                 8   \n",
       "GSE193745_GSE193745_TTTGGTTCAAATACAG-1_17                4                 3   \n",
       "GSE193745_GSE193745_TTTGGTTGTAGCCTCG-1_17                6                 8   \n",
       "\n",
       "                                           harmony.cluster.0.5  \\\n",
       "barcode                                                          \n",
       "AAACCTGTCTTTAGTC_NS_02                                      10   \n",
       "AAACGGGAGCTTTGGT_NS_02                                      12   \n",
       "AAACGGGCATACGCCG_NS_02                                       3   \n",
       "AAAGATGAGAGGTAGA_NS_02                                       1   \n",
       "AAAGATGAGGCGTACA_NS_02                                       0   \n",
       "...                                                        ...   \n",
       "GSE193745_GSE193745_TTTGCGCCATGTAAGA-1_17                    6   \n",
       "GSE193745_GSE193745_TTTGCGCGTCGCATCG-1_17                    3   \n",
       "GSE193745_GSE193745_TTTGGTTAGGTGTTAA-1_17                    7   \n",
       "GSE193745_GSE193745_TTTGGTTCAAATACAG-1_17                    4   \n",
       "GSE193745_GSE193745_TTTGGTTGTAGCCTCG-1_17                    6   \n",
       "\n",
       "                                                                             barcode  \\\n",
       "barcode                                                                                \n",
       "AAACCTGTCTTTAGTC_NS_02                                        AAACCTGTCTTTAGTC_NS_02   \n",
       "AAACGGGAGCTTTGGT_NS_02                                        AAACGGGAGCTTTGGT_NS_02   \n",
       "AAACGGGCATACGCCG_NS_02                                        AAACGGGCATACGCCG_NS_02   \n",
       "AAAGATGAGAGGTAGA_NS_02                                        AAAGATGAGAGGTAGA_NS_02   \n",
       "AAAGATGAGGCGTACA_NS_02                                        AAAGATGAGGCGTACA_NS_02   \n",
       "...                                                                              ...   \n",
       "GSE193745_GSE193745_TTTGCGCCATGTAAGA-1_17  GSE193745_GSE193745_TTTGCGCCATGTAAGA-1_17   \n",
       "GSE193745_GSE193745_TTTGCGCGTCGCATCG-1_17  GSE193745_GSE193745_TTTGCGCGTCGCATCG-1_17   \n",
       "GSE193745_GSE193745_TTTGGTTAGGTGTTAA-1_17  GSE193745_GSE193745_TTTGGTTAGGTGTTAA-1_17   \n",
       "GSE193745_GSE193745_TTTGGTTCAAATACAG-1_17  GSE193745_GSE193745_TTTGGTTCAAATACAG-1_17   \n",
       "GSE193745_GSE193745_TTTGGTTGTAGCCTCG-1_17  GSE193745_GSE193745_TTTGGTTGTAGCCTCG-1_17   \n",
       "\n",
       "                                              UMAP_1    UMAP_2  \n",
       "barcode                                                         \n",
       "AAACCTGTCTTTAGTC_NS_02                      6.517687  4.592167  \n",
       "AAACGGGAGCTTTGGT_NS_02                     -3.119733  6.495010  \n",
       "AAACGGGCATACGCCG_NS_02                     -3.296767  0.531751  \n",
       "AAAGATGAGAGGTAGA_NS_02                     -2.616868 -2.451068  \n",
       "AAAGATGAGGCGTACA_NS_02                     -6.262387  3.076460  \n",
       "...                                              ...       ...  \n",
       "GSE193745_GSE193745_TTTGCGCCATGTAAGA-1_17   6.989755 -1.927703  \n",
       "GSE193745_GSE193745_TTTGCGCGTCGCATCG-1_17  -4.178997  0.325401  \n",
       "GSE193745_GSE193745_TTTGGTTAGGTGTTAA-1_17  10.318720 -1.993642  \n",
       "GSE193745_GSE193745_TTTGGTTCAAATACAG-1_17  -6.674124 -1.595920  \n",
       "GSE193745_GSE193745_TTTGGTTGTAGCCTCG-1_17   7.007161 -2.004806  \n",
       "\n",
       "[46258 rows x 23 columns]"
      ]
     },
     "execution_count": 25,
     "metadata": {},
     "output_type": "execute_result"
    }
   ],
   "source": [
    "adata_2000.obs"
   ]
  },
  {
   "cell_type": "markdown",
   "id": "economic-penny",
   "metadata": {
    "id": "economic-penny"
   },
   "source": [
    "## Assign cell type labels using a CellTypist built-in model\n",
    "In this section, we show the procedure of transferring cell type labels from built-in models to the query dataset."
   ]
  },
  {
   "cell_type": "markdown",
   "id": "quick-stanford",
   "metadata": {
    "id": "quick-stanford"
   },
   "source": [
    "Download the latest CellTypist models."
   ]
  },
  {
   "cell_type": "code",
   "execution_count": 26,
   "id": "premier-measurement",
   "metadata": {
    "id": "premier-measurement",
    "outputId": "3ba5d46e-0be7-4466-cebe-5b1b5589c74e",
    "tags": []
   },
   "outputs": [
    {
     "name": "stderr",
     "output_type": "stream",
     "text": [
      "📜 Retrieving model list from server https://celltypist.cog.sanger.ac.uk/models/models.json\n",
      "📚 Total models in list: 54\n",
      "📂 Storing models in /home/hieunguyen/.celltypist/data/models\n",
      "💾 Downloading model [1/54]: Immune_All_Low.pkl\n",
      "💾 Downloading model [2/54]: Immune_All_High.pkl\n",
      "💾 Downloading model [3/54]: Adult_COVID19_PBMC.pkl\n",
      "💾 Downloading model [4/54]: Adult_CynomolgusMacaque_Hippocampus.pkl\n",
      "💾 Downloading model [5/54]: Adult_Human_MTG.pkl\n",
      "💾 Downloading model [6/54]: Adult_Human_PancreaticIslet.pkl\n",
      "💾 Downloading model [7/54]: Adult_Human_PrefrontalCortex.pkl\n",
      "💾 Downloading model [8/54]: Adult_Human_Skin.pkl\n",
      "💾 Downloading model [9/54]: Adult_Human_Vascular.pkl\n",
      "💾 Downloading model [10/54]: Adult_Mouse_Gut.pkl\n",
      "💾 Downloading model [11/54]: Adult_Mouse_OlfactoryBulb.pkl\n",
      "💾 Downloading model [12/54]: Adult_Pig_Hippocampus.pkl\n",
      "💾 Downloading model [13/54]: Adult_RhesusMacaque_Hippocampus.pkl\n",
      "💾 Downloading model [14/54]: Autopsy_COVID19_Lung.pkl\n",
      "💾 Downloading model [15/54]: COVID19_HumanChallenge_Blood.pkl\n",
      "💾 Downloading model [16/54]: COVID19_Immune_Landscape.pkl\n",
      "💾 Downloading model [17/54]: Cells_Adult_Breast.pkl\n",
      "💾 Downloading model [18/54]: Cells_Fetal_Lung.pkl\n",
      "💾 Downloading model [19/54]: Cells_Human_Tonsil.pkl\n",
      "💾 Downloading model [20/54]: Cells_Intestinal_Tract.pkl\n",
      "💾 Downloading model [21/54]: Cells_Lung_Airway.pkl\n",
      "💾 Downloading model [22/54]: Developing_Human_Brain.pkl\n",
      "💾 Downloading model [23/54]: Developing_Human_Gonads.pkl\n",
      "💾 Downloading model [24/54]: Developing_Human_Hippocampus.pkl\n",
      "💾 Downloading model [25/54]: Developing_Human_Organs.pkl\n",
      "💾 Downloading model [26/54]: Developing_Human_Thymus.pkl\n",
      "💾 Downloading model [27/54]: Developing_Mouse_Brain.pkl\n",
      "💾 Downloading model [28/54]: Developing_Mouse_Hippocampus.pkl\n",
      "💾 Downloading model [29/54]: Fetal_Human_AdrenalGlands.pkl\n",
      "💾 Downloading model [30/54]: Fetal_Human_Pancreas.pkl\n",
      "💾 Downloading model [31/54]: Fetal_Human_Pituitary.pkl\n",
      "💾 Downloading model [32/54]: Fetal_Human_Retina.pkl\n",
      "💾 Downloading model [33/54]: Fetal_Human_Skin.pkl\n",
      "💾 Downloading model [34/54]: Healthy_Adult_Heart.pkl\n",
      "💾 Downloading model [35/54]: Healthy_COVID19_PBMC.pkl\n",
      "💾 Downloading model [36/54]: Healthy_Human_Liver.pkl\n",
      "💾 Downloading model [37/54]: Healthy_Mouse_Liver.pkl\n",
      "💾 Downloading model [38/54]: Human_AdultAged_Hippocampus.pkl\n",
      "💾 Downloading model [39/54]: Human_Colorectal_Cancer.pkl\n",
      "💾 Downloading model [40/54]: Human_Developmental_Retina.pkl\n",
      "💾 Downloading model [41/54]: Human_Embryonic_YolkSac.pkl\n",
      "💾 Downloading model [42/54]: Human_Endometrium_Atlas.pkl\n",
      "💾 Downloading model [43/54]: Human_IPF_Lung.pkl\n",
      "💾 Downloading model [44/54]: Human_Longitudinal_Hippocampus.pkl\n",
      "💾 Downloading model [45/54]: Human_Lung_Atlas.pkl\n",
      "💾 Downloading model [46/54]: Human_PF_Lung.pkl\n",
      "💾 Downloading model [47/54]: Human_Placenta_Decidua.pkl\n",
      "💾 Downloading model [48/54]: Lethal_COVID19_Lung.pkl\n",
      "💾 Downloading model [49/54]: Mouse_Dentate_Gyrus.pkl\n",
      "💾 Downloading model [50/54]: Mouse_Isocortex_Hippocampus.pkl\n",
      "💾 Downloading model [51/54]: Mouse_Postnatal_DentateGyrus.pkl\n",
      "💾 Downloading model [52/54]: Mouse_Whole_Brain.pkl\n",
      "💾 Downloading model [53/54]: Nuclei_Lung_Airway.pkl\n",
      "💾 Downloading model [54/54]: Pan_Fetal_Human.pkl\n"
     ]
    }
   ],
   "source": [
    "# Enabling `force_update = True` will overwrite existing (old) models.\n",
    "models.download_models(force_update = True)"
   ]
  },
  {
   "cell_type": "markdown",
   "id": "stuck-judges",
   "metadata": {
    "id": "stuck-judges"
   },
   "source": [
    "All models are stored in `models.models_path`."
   ]
  },
  {
   "cell_type": "code",
   "execution_count": 27,
   "id": "above-length",
   "metadata": {
    "id": "above-length",
    "outputId": "b5cca87a-aab3-42af-98c6-a850e785dc29"
   },
   "outputs": [
    {
     "data": {
      "text/plain": [
       "'/home/hieunguyen/.celltypist/data/models'"
      ]
     },
     "execution_count": 27,
     "metadata": {},
     "output_type": "execute_result"
    }
   ],
   "source": [
    "models.models_path"
   ]
  },
  {
   "cell_type": "markdown",
   "id": "understanding-slovak",
   "metadata": {
    "id": "understanding-slovak"
   },
   "source": [
    "Get an overview of the models and what they represent."
   ]
  },
  {
   "cell_type": "code",
   "execution_count": 28,
   "id": "breeding-grace",
   "metadata": {
    "id": "breeding-grace",
    "outputId": "42735dea-63b3-417d-926e-d26679d70f0e",
    "tags": []
   },
   "outputs": [
    {
     "name": "stderr",
     "output_type": "stream",
     "text": [
      "👉 Detailed model information can be found at `https://www.celltypist.org/models`\n"
     ]
    },
    {
     "data": {
      "text/html": [
       "<div>\n",
       "<style scoped>\n",
       "    .dataframe tbody tr th:only-of-type {\n",
       "        vertical-align: middle;\n",
       "    }\n",
       "\n",
       "    .dataframe tbody tr th {\n",
       "        vertical-align: top;\n",
       "    }\n",
       "\n",
       "    .dataframe thead th {\n",
       "        text-align: right;\n",
       "    }\n",
       "</style>\n",
       "<table border=\"1\" class=\"dataframe\">\n",
       "  <thead>\n",
       "    <tr style=\"text-align: right;\">\n",
       "      <th></th>\n",
       "      <th>model</th>\n",
       "      <th>description</th>\n",
       "    </tr>\n",
       "  </thead>\n",
       "  <tbody>\n",
       "    <tr>\n",
       "      <th>0</th>\n",
       "      <td>Immune_All_Low.pkl</td>\n",
       "      <td>immune sub-populations combined from 20 tissue...</td>\n",
       "    </tr>\n",
       "    <tr>\n",
       "      <th>1</th>\n",
       "      <td>Immune_All_High.pkl</td>\n",
       "      <td>immune populations combined from 20 tissues of...</td>\n",
       "    </tr>\n",
       "    <tr>\n",
       "      <th>2</th>\n",
       "      <td>Adult_COVID19_PBMC.pkl</td>\n",
       "      <td>peripheral blood mononuclear cell types from C...</td>\n",
       "    </tr>\n",
       "    <tr>\n",
       "      <th>3</th>\n",
       "      <td>Adult_CynomolgusMacaque_Hippocampus.pkl</td>\n",
       "      <td>cell types from the hippocampus of adult cynom...</td>\n",
       "    </tr>\n",
       "    <tr>\n",
       "      <th>4</th>\n",
       "      <td>Adult_Human_MTG.pkl</td>\n",
       "      <td>cell types and subtypes (10x-based) from the a...</td>\n",
       "    </tr>\n",
       "    <tr>\n",
       "      <th>5</th>\n",
       "      <td>Adult_Human_PancreaticIslet.pkl</td>\n",
       "      <td>cell types from pancreatic islets of healthy a...</td>\n",
       "    </tr>\n",
       "    <tr>\n",
       "      <th>6</th>\n",
       "      <td>Adult_Human_PrefrontalCortex.pkl</td>\n",
       "      <td>cell types and subtypes from the adult human d...</td>\n",
       "    </tr>\n",
       "    <tr>\n",
       "      <th>7</th>\n",
       "      <td>Adult_Human_Skin.pkl</td>\n",
       "      <td>cell types from human healthy adult skin</td>\n",
       "    </tr>\n",
       "    <tr>\n",
       "      <th>8</th>\n",
       "      <td>Adult_Human_Vascular.pkl</td>\n",
       "      <td>vascular populations combined from multiple ad...</td>\n",
       "    </tr>\n",
       "    <tr>\n",
       "      <th>9</th>\n",
       "      <td>Adult_Mouse_Gut.pkl</td>\n",
       "      <td>cell types in the adult mouse gut combined fro...</td>\n",
       "    </tr>\n",
       "    <tr>\n",
       "      <th>10</th>\n",
       "      <td>Adult_Mouse_OlfactoryBulb.pkl</td>\n",
       "      <td>cell types from the olfactory bulb of adult mice</td>\n",
       "    </tr>\n",
       "    <tr>\n",
       "      <th>11</th>\n",
       "      <td>Adult_Pig_Hippocampus.pkl</td>\n",
       "      <td>cell types from the adult pig hippocampus</td>\n",
       "    </tr>\n",
       "    <tr>\n",
       "      <th>12</th>\n",
       "      <td>Adult_RhesusMacaque_Hippocampus.pkl</td>\n",
       "      <td>cell types from the hippocampus of adult rhesu...</td>\n",
       "    </tr>\n",
       "    <tr>\n",
       "      <th>13</th>\n",
       "      <td>Autopsy_COVID19_Lung.pkl</td>\n",
       "      <td>cell types from the lungs of 16 SARS-CoV-2 inf...</td>\n",
       "    </tr>\n",
       "    <tr>\n",
       "      <th>14</th>\n",
       "      <td>COVID19_HumanChallenge_Blood.pkl</td>\n",
       "      <td>detailed blood cell states from 16 individuals...</td>\n",
       "    </tr>\n",
       "    <tr>\n",
       "      <th>15</th>\n",
       "      <td>COVID19_Immune_Landscape.pkl</td>\n",
       "      <td>immune subtypes from lung and blood of COVID-1...</td>\n",
       "    </tr>\n",
       "    <tr>\n",
       "      <th>16</th>\n",
       "      <td>Cells_Adult_Breast.pkl</td>\n",
       "      <td>cell types from the adult human breast</td>\n",
       "    </tr>\n",
       "    <tr>\n",
       "      <th>17</th>\n",
       "      <td>Cells_Fetal_Lung.pkl</td>\n",
       "      <td>cell types from human embryonic and fetal lungs</td>\n",
       "    </tr>\n",
       "    <tr>\n",
       "      <th>18</th>\n",
       "      <td>Cells_Human_Tonsil.pkl</td>\n",
       "      <td>tonsillar cell types from humans (3-65 years)</td>\n",
       "    </tr>\n",
       "    <tr>\n",
       "      <th>19</th>\n",
       "      <td>Cells_Intestinal_Tract.pkl</td>\n",
       "      <td>intestinal cells from fetal, pediatric (health...</td>\n",
       "    </tr>\n",
       "    <tr>\n",
       "      <th>20</th>\n",
       "      <td>Cells_Lung_Airway.pkl</td>\n",
       "      <td>cell populations from scRNA-seq of five locati...</td>\n",
       "    </tr>\n",
       "    <tr>\n",
       "      <th>21</th>\n",
       "      <td>Developing_Human_Brain.pkl</td>\n",
       "      <td>cell types from the first-trimester developing...</td>\n",
       "    </tr>\n",
       "    <tr>\n",
       "      <th>22</th>\n",
       "      <td>Developing_Human_Gonads.pkl</td>\n",
       "      <td>cell types of human gonadal and adjacent extra...</td>\n",
       "    </tr>\n",
       "    <tr>\n",
       "      <th>23</th>\n",
       "      <td>Developing_Human_Hippocampus.pkl</td>\n",
       "      <td>cell types from the developing human hippocampus</td>\n",
       "    </tr>\n",
       "    <tr>\n",
       "      <th>24</th>\n",
       "      <td>Developing_Human_Organs.pkl</td>\n",
       "      <td>cell types of five endoderm-derived organs in ...</td>\n",
       "    </tr>\n",
       "    <tr>\n",
       "      <th>25</th>\n",
       "      <td>Developing_Human_Thymus.pkl</td>\n",
       "      <td>cell populations in embryonic, fetal, pediatri...</td>\n",
       "    </tr>\n",
       "    <tr>\n",
       "      <th>26</th>\n",
       "      <td>Developing_Mouse_Brain.pkl</td>\n",
       "      <td>cell types from the embryonic mouse brain betw...</td>\n",
       "    </tr>\n",
       "    <tr>\n",
       "      <th>27</th>\n",
       "      <td>Developing_Mouse_Hippocampus.pkl</td>\n",
       "      <td>cell types from the mouse hippocampus at postn...</td>\n",
       "    </tr>\n",
       "    <tr>\n",
       "      <th>28</th>\n",
       "      <td>Fetal_Human_AdrenalGlands.pkl</td>\n",
       "      <td>cell types of human fetal adrenal glands from ...</td>\n",
       "    </tr>\n",
       "    <tr>\n",
       "      <th>29</th>\n",
       "      <td>Fetal_Human_Pancreas.pkl</td>\n",
       "      <td>pancreatic cell types from human embryos at 9-...</td>\n",
       "    </tr>\n",
       "    <tr>\n",
       "      <th>30</th>\n",
       "      <td>Fetal_Human_Pituitary.pkl</td>\n",
       "      <td>cell types of human fetal pituitaries from 7 t...</td>\n",
       "    </tr>\n",
       "    <tr>\n",
       "      <th>31</th>\n",
       "      <td>Fetal_Human_Retina.pkl</td>\n",
       "      <td>cell types from human fetal neural retina and ...</td>\n",
       "    </tr>\n",
       "    <tr>\n",
       "      <th>32</th>\n",
       "      <td>Fetal_Human_Skin.pkl</td>\n",
       "      <td>cell types from developing human fetal skin</td>\n",
       "    </tr>\n",
       "    <tr>\n",
       "      <th>33</th>\n",
       "      <td>Healthy_Adult_Heart.pkl</td>\n",
       "      <td>cell types from eight anatomical regions of th...</td>\n",
       "    </tr>\n",
       "    <tr>\n",
       "      <th>34</th>\n",
       "      <td>Healthy_COVID19_PBMC.pkl</td>\n",
       "      <td>peripheral blood mononuclear cell types from h...</td>\n",
       "    </tr>\n",
       "    <tr>\n",
       "      <th>35</th>\n",
       "      <td>Healthy_Human_Liver.pkl</td>\n",
       "      <td>cell types from scRNA-seq and snRNA-seq of the...</td>\n",
       "    </tr>\n",
       "    <tr>\n",
       "      <th>36</th>\n",
       "      <td>Healthy_Mouse_Liver.pkl</td>\n",
       "      <td>cell types from scRNA-seq and snRNA-seq of the...</td>\n",
       "    </tr>\n",
       "    <tr>\n",
       "      <th>37</th>\n",
       "      <td>Human_AdultAged_Hippocampus.pkl</td>\n",
       "      <td>cell types from the hippocampus of adult and a...</td>\n",
       "    </tr>\n",
       "    <tr>\n",
       "      <th>38</th>\n",
       "      <td>Human_Colorectal_Cancer.pkl</td>\n",
       "      <td>cell types of colon tissues from patients with...</td>\n",
       "    </tr>\n",
       "    <tr>\n",
       "      <th>39</th>\n",
       "      <td>Human_Developmental_Retina.pkl</td>\n",
       "      <td>cell types from human fetal retina</td>\n",
       "    </tr>\n",
       "    <tr>\n",
       "      <th>40</th>\n",
       "      <td>Human_Embryonic_YolkSac.pkl</td>\n",
       "      <td>cell types of the human yolk sac from 4-8 post...</td>\n",
       "    </tr>\n",
       "    <tr>\n",
       "      <th>41</th>\n",
       "      <td>Human_Endometrium_Atlas.pkl</td>\n",
       "      <td>endometrial cell types integrated from seven d...</td>\n",
       "    </tr>\n",
       "    <tr>\n",
       "      <th>42</th>\n",
       "      <td>Human_IPF_Lung.pkl</td>\n",
       "      <td>cell types from idiopathic pulmonary fibrosis,...</td>\n",
       "    </tr>\n",
       "    <tr>\n",
       "      <th>43</th>\n",
       "      <td>Human_Longitudinal_Hippocampus.pkl</td>\n",
       "      <td>cell types from the adult human anterior and p...</td>\n",
       "    </tr>\n",
       "    <tr>\n",
       "      <th>44</th>\n",
       "      <td>Human_Lung_Atlas.pkl</td>\n",
       "      <td>integrated Human Lung Cell Atlas (HLCA) combin...</td>\n",
       "    </tr>\n",
       "    <tr>\n",
       "      <th>45</th>\n",
       "      <td>Human_PF_Lung.pkl</td>\n",
       "      <td>cell types from different forms of pulmonary f...</td>\n",
       "    </tr>\n",
       "    <tr>\n",
       "      <th>46</th>\n",
       "      <td>Human_Placenta_Decidua.pkl</td>\n",
       "      <td>cell types from first-trimester human placenta...</td>\n",
       "    </tr>\n",
       "    <tr>\n",
       "      <th>47</th>\n",
       "      <td>Lethal_COVID19_Lung.pkl</td>\n",
       "      <td>cell types from the lungs of individuals who d...</td>\n",
       "    </tr>\n",
       "    <tr>\n",
       "      <th>48</th>\n",
       "      <td>Mouse_Dentate_Gyrus.pkl</td>\n",
       "      <td>cell types from the dentate gyrus in perinatal...</td>\n",
       "    </tr>\n",
       "    <tr>\n",
       "      <th>49</th>\n",
       "      <td>Mouse_Isocortex_Hippocampus.pkl</td>\n",
       "      <td>cell types from the adult mouse isocortex (neo...</td>\n",
       "    </tr>\n",
       "    <tr>\n",
       "      <th>50</th>\n",
       "      <td>Mouse_Postnatal_DentateGyrus.pkl</td>\n",
       "      <td>cell types from the mouse dentate gyrus in pos...</td>\n",
       "    </tr>\n",
       "    <tr>\n",
       "      <th>51</th>\n",
       "      <td>Mouse_Whole_Brain.pkl</td>\n",
       "      <td>cell types from the whole adult mouse brain</td>\n",
       "    </tr>\n",
       "    <tr>\n",
       "      <th>52</th>\n",
       "      <td>Nuclei_Lung_Airway.pkl</td>\n",
       "      <td>cell populations from snRNA-seq of five locati...</td>\n",
       "    </tr>\n",
       "    <tr>\n",
       "      <th>53</th>\n",
       "      <td>Pan_Fetal_Human.pkl</td>\n",
       "      <td>stromal and immune populations from the human ...</td>\n",
       "    </tr>\n",
       "  </tbody>\n",
       "</table>\n",
       "</div>"
      ],
      "text/plain": [
       "                                      model  \\\n",
       "0                        Immune_All_Low.pkl   \n",
       "1                       Immune_All_High.pkl   \n",
       "2                    Adult_COVID19_PBMC.pkl   \n",
       "3   Adult_CynomolgusMacaque_Hippocampus.pkl   \n",
       "4                       Adult_Human_MTG.pkl   \n",
       "5           Adult_Human_PancreaticIslet.pkl   \n",
       "6          Adult_Human_PrefrontalCortex.pkl   \n",
       "7                      Adult_Human_Skin.pkl   \n",
       "8                  Adult_Human_Vascular.pkl   \n",
       "9                       Adult_Mouse_Gut.pkl   \n",
       "10            Adult_Mouse_OlfactoryBulb.pkl   \n",
       "11                Adult_Pig_Hippocampus.pkl   \n",
       "12      Adult_RhesusMacaque_Hippocampus.pkl   \n",
       "13                 Autopsy_COVID19_Lung.pkl   \n",
       "14         COVID19_HumanChallenge_Blood.pkl   \n",
       "15             COVID19_Immune_Landscape.pkl   \n",
       "16                   Cells_Adult_Breast.pkl   \n",
       "17                     Cells_Fetal_Lung.pkl   \n",
       "18                   Cells_Human_Tonsil.pkl   \n",
       "19               Cells_Intestinal_Tract.pkl   \n",
       "20                    Cells_Lung_Airway.pkl   \n",
       "21               Developing_Human_Brain.pkl   \n",
       "22              Developing_Human_Gonads.pkl   \n",
       "23         Developing_Human_Hippocampus.pkl   \n",
       "24              Developing_Human_Organs.pkl   \n",
       "25              Developing_Human_Thymus.pkl   \n",
       "26               Developing_Mouse_Brain.pkl   \n",
       "27         Developing_Mouse_Hippocampus.pkl   \n",
       "28            Fetal_Human_AdrenalGlands.pkl   \n",
       "29                 Fetal_Human_Pancreas.pkl   \n",
       "30                Fetal_Human_Pituitary.pkl   \n",
       "31                   Fetal_Human_Retina.pkl   \n",
       "32                     Fetal_Human_Skin.pkl   \n",
       "33                  Healthy_Adult_Heart.pkl   \n",
       "34                 Healthy_COVID19_PBMC.pkl   \n",
       "35                  Healthy_Human_Liver.pkl   \n",
       "36                  Healthy_Mouse_Liver.pkl   \n",
       "37          Human_AdultAged_Hippocampus.pkl   \n",
       "38              Human_Colorectal_Cancer.pkl   \n",
       "39           Human_Developmental_Retina.pkl   \n",
       "40              Human_Embryonic_YolkSac.pkl   \n",
       "41              Human_Endometrium_Atlas.pkl   \n",
       "42                       Human_IPF_Lung.pkl   \n",
       "43       Human_Longitudinal_Hippocampus.pkl   \n",
       "44                     Human_Lung_Atlas.pkl   \n",
       "45                        Human_PF_Lung.pkl   \n",
       "46               Human_Placenta_Decidua.pkl   \n",
       "47                  Lethal_COVID19_Lung.pkl   \n",
       "48                  Mouse_Dentate_Gyrus.pkl   \n",
       "49          Mouse_Isocortex_Hippocampus.pkl   \n",
       "50         Mouse_Postnatal_DentateGyrus.pkl   \n",
       "51                    Mouse_Whole_Brain.pkl   \n",
       "52                   Nuclei_Lung_Airway.pkl   \n",
       "53                      Pan_Fetal_Human.pkl   \n",
       "\n",
       "                                          description  \n",
       "0   immune sub-populations combined from 20 tissue...  \n",
       "1   immune populations combined from 20 tissues of...  \n",
       "2   peripheral blood mononuclear cell types from C...  \n",
       "3   cell types from the hippocampus of adult cynom...  \n",
       "4   cell types and subtypes (10x-based) from the a...  \n",
       "5   cell types from pancreatic islets of healthy a...  \n",
       "6   cell types and subtypes from the adult human d...  \n",
       "7            cell types from human healthy adult skin  \n",
       "8   vascular populations combined from multiple ad...  \n",
       "9   cell types in the adult mouse gut combined fro...  \n",
       "10   cell types from the olfactory bulb of adult mice  \n",
       "11          cell types from the adult pig hippocampus  \n",
       "12  cell types from the hippocampus of adult rhesu...  \n",
       "13  cell types from the lungs of 16 SARS-CoV-2 inf...  \n",
       "14  detailed blood cell states from 16 individuals...  \n",
       "15  immune subtypes from lung and blood of COVID-1...  \n",
       "16             cell types from the adult human breast  \n",
       "17    cell types from human embryonic and fetal lungs  \n",
       "18      tonsillar cell types from humans (3-65 years)  \n",
       "19  intestinal cells from fetal, pediatric (health...  \n",
       "20  cell populations from scRNA-seq of five locati...  \n",
       "21  cell types from the first-trimester developing...  \n",
       "22  cell types of human gonadal and adjacent extra...  \n",
       "23   cell types from the developing human hippocampus  \n",
       "24  cell types of five endoderm-derived organs in ...  \n",
       "25  cell populations in embryonic, fetal, pediatri...  \n",
       "26  cell types from the embryonic mouse brain betw...  \n",
       "27  cell types from the mouse hippocampus at postn...  \n",
       "28  cell types of human fetal adrenal glands from ...  \n",
       "29  pancreatic cell types from human embryos at 9-...  \n",
       "30  cell types of human fetal pituitaries from 7 t...  \n",
       "31  cell types from human fetal neural retina and ...  \n",
       "32        cell types from developing human fetal skin  \n",
       "33  cell types from eight anatomical regions of th...  \n",
       "34  peripheral blood mononuclear cell types from h...  \n",
       "35  cell types from scRNA-seq and snRNA-seq of the...  \n",
       "36  cell types from scRNA-seq and snRNA-seq of the...  \n",
       "37  cell types from the hippocampus of adult and a...  \n",
       "38  cell types of colon tissues from patients with...  \n",
       "39                 cell types from human fetal retina  \n",
       "40  cell types of the human yolk sac from 4-8 post...  \n",
       "41  endometrial cell types integrated from seven d...  \n",
       "42  cell types from idiopathic pulmonary fibrosis,...  \n",
       "43  cell types from the adult human anterior and p...  \n",
       "44  integrated Human Lung Cell Atlas (HLCA) combin...  \n",
       "45  cell types from different forms of pulmonary f...  \n",
       "46  cell types from first-trimester human placenta...  \n",
       "47  cell types from the lungs of individuals who d...  \n",
       "48  cell types from the dentate gyrus in perinatal...  \n",
       "49  cell types from the adult mouse isocortex (neo...  \n",
       "50  cell types from the mouse dentate gyrus in pos...  \n",
       "51        cell types from the whole adult mouse brain  \n",
       "52  cell populations from snRNA-seq of five locati...  \n",
       "53  stromal and immune populations from the human ...  "
      ]
     },
     "execution_count": 28,
     "metadata": {},
     "output_type": "execute_result"
    }
   ],
   "source": [
    "models.models_description()"
   ]
  },
  {
   "cell_type": "markdown",
   "id": "tribal-broadway",
   "metadata": {
    "id": "tribal-broadway"
   },
   "source": [
    "Choose the model you want to employ, for example, the model with all tissues combined containing low-hierarchy (high-resolution) immune cell types/subtypes."
   ]
  },
  {
   "cell_type": "code",
   "execution_count": 29,
   "id": "boring-challenge",
   "metadata": {
    "id": "boring-challenge"
   },
   "outputs": [],
   "source": [
    "# Indeed, the `model` argument defaults to `Immune_All_Low.pkl`.\n",
    "model = models.Model.load(model = 'Immune_All_Low.pkl')"
   ]
  },
  {
   "cell_type": "markdown",
   "id": "lovely-advisory",
   "metadata": {
    "id": "lovely-advisory"
   },
   "source": [
    "Show the model meta information."
   ]
  },
  {
   "cell_type": "code",
   "execution_count": 30,
   "id": "anticipated-picking",
   "metadata": {
    "id": "anticipated-picking",
    "outputId": "f5d09f43-63cd-49c0-f7d5-398c10b4317c"
   },
   "outputs": [
    {
     "data": {
      "text/plain": [
       "CellTypist model with 98 cell types and 6639 features\n",
       "    date: 2022-07-16 00:20:42.927778\n",
       "    details: immune sub-populations combined from 20 tissues of 18 studies\n",
       "    source: https://doi.org/10.1126/science.abl5197\n",
       "    version: v2\n",
       "    cell types: Age-associated B cells, Alveolar macrophages, ..., pDC precursor\n",
       "    features: A1BG, A2M, ..., ZYX"
      ]
     },
     "execution_count": 30,
     "metadata": {},
     "output_type": "execute_result"
    }
   ],
   "source": [
    "model"
   ]
  },
  {
   "cell_type": "markdown",
   "id": "exterior-driving",
   "metadata": {
    "id": "exterior-driving"
   },
   "source": [
    "This model contains 98 cell states."
   ]
  },
  {
   "cell_type": "code",
   "execution_count": 31,
   "id": "hundred-receipt",
   "metadata": {
    "id": "hundred-receipt",
    "outputId": "926b6872-9199-44cd-f27e-5184ee630dcc",
    "tags": []
   },
   "outputs": [
    {
     "data": {
      "text/plain": [
       "array(['Age-associated B cells', 'Alveolar macrophages', 'B cells',\n",
       "       'CD16+ NK cells', 'CD16- NK cells', 'CD8a/a', 'CD8a/b(entry)',\n",
       "       'CMP', 'CRTAM+ gamma-delta T cells', 'Classical monocytes',\n",
       "       'Cycling B cells', 'Cycling DCs', 'Cycling NK cells',\n",
       "       'Cycling T cells', 'Cycling gamma-delta T cells',\n",
       "       'Cycling monocytes', 'DC', 'DC precursor', 'DC1', 'DC2', 'DC3',\n",
       "       'Double-negative thymocytes', 'Double-positive thymocytes', 'ELP',\n",
       "       'ETP', 'Early MK', 'Early erythroid', 'Early lymphoid/T lymphoid',\n",
       "       'Endothelial cells', 'Epithelial cells', 'Erythrocytes',\n",
       "       'Erythrophagocytic macrophages', 'Fibroblasts',\n",
       "       'Follicular B cells', 'Follicular helper T cells', 'GMP',\n",
       "       'Germinal center B cells', 'Granulocytes', 'HSC/MPP',\n",
       "       'Hofbauer cells', 'ILC', 'ILC precursor', 'ILC1', 'ILC2', 'ILC3',\n",
       "       'Intermediate macrophages', 'Intestinal macrophages',\n",
       "       'Kidney-resident macrophages', 'Kupffer cells',\n",
       "       'Large pre-B cells', 'Late erythroid', 'MAIT cells', 'MEMP', 'MNP',\n",
       "       'Macrophages', 'Mast cells', 'Megakaryocyte precursor',\n",
       "       'Megakaryocyte-erythroid-mast cell progenitor',\n",
       "       'Megakaryocytes/platelets', 'Memory B cells',\n",
       "       'Memory CD4+ cytotoxic T cells', 'Mid erythroid', 'Migratory DCs',\n",
       "       'Mono-mac', 'Monocyte precursor', 'Monocytes', 'Myelocytes',\n",
       "       'NK cells', 'NKT cells', 'Naive B cells',\n",
       "       'Neutrophil-myeloid progenitor', 'Neutrophils',\n",
       "       'Non-classical monocytes', 'Plasma cells', 'Plasmablasts',\n",
       "       'Pre-pro-B cells', 'Pro-B cells',\n",
       "       'Proliferative germinal center B cells', 'Promyelocytes',\n",
       "       'Regulatory T cells', 'Small pre-B cells', 'T(agonist)',\n",
       "       'Tcm/Naive cytotoxic T cells', 'Tcm/Naive helper T cells',\n",
       "       'Tem/Effector helper T cells', 'Tem/Effector helper T cells PD1+',\n",
       "       'Tem/Temra cytotoxic T cells', 'Tem/Trm cytotoxic T cells',\n",
       "       'Transitional B cells', 'Transitional DC', 'Transitional NK',\n",
       "       'Treg(diff)', 'Trm cytotoxic T cells', 'Type 1 helper T cells',\n",
       "       'Type 17 helper T cells', 'gamma-delta T cells', 'pDC',\n",
       "       'pDC precursor'], dtype=object)"
      ]
     },
     "execution_count": 31,
     "metadata": {},
     "output_type": "execute_result"
    }
   ],
   "source": [
    "model.cell_types"
   ]
  },
  {
   "cell_type": "markdown",
   "id": "entertaining-sensitivity",
   "metadata": {
    "id": "entertaining-sensitivity",
    "tags": []
   },
   "source": [
    "Transfer cell type labels from this model to the query dataset using [celltypist.annotate](https://celltypist.readthedocs.io/en/latest/celltypist.annotate.html)."
   ]
  },
  {
   "cell_type": "code",
   "execution_count": 37,
   "id": "postal-chicken",
   "metadata": {
    "id": "postal-chicken",
    "outputId": "fcb88b30-128e-4b34-84d2-ea6983c53672",
    "tags": []
   },
   "outputs": [
    {
     "name": "stderr",
     "output_type": "stream",
     "text": [
      "⚠️ Warning: invalid expression matrix, expect ALL genes and log1p normalized expression to 10000 counts per cell. The prediction result may not be accurate\n",
      "🔬 Input data has 46258 cells and 20514 genes\n",
      "🔬 Input data has 46258 cells and 20514 genes\n",
      "🔗 Matching reference genes in the model\n",
      "🧬 5853 features used for prediction\n",
      "⚖️ Scaling input data\n",
      "🖋️ Predicting labels\n",
      "✅ Prediction done!\n",
      "👀 Can not detect a neighborhood graph, will construct one before the over-clustering\n",
      "/home/hieunguyen/miniconda3/envs/pytorch/lib/python3.9/site-packages/tqdm/auto.py:21: TqdmWarning: IProgress not found. Please update jupyter and ipywidgets. See https://ipywidgets.readthedocs.io/en/stable/user_install.html\n",
      "  from .autonotebook import tqdm as notebook_tqdm\n",
      "⛓️ Over-clustering input data with resolution set to 20\n",
      "🗳️ Majority voting the predictions\n",
      "✅ Majority voting done!\n"
     ]
    }
   ],
   "source": [
    "# Not run; predict cell identities using this loaded model.\n",
    "#predictions = celltypist.annotate(adata_2000, model = model, majority_voting = True)\n",
    "# Alternatively, just specify the model name (recommended as this ensures the model is intact every time it is loaded).\n",
    "sc.pp.pca(adata_2000, n_comps = 50, use_highly_variable = False)\n",
    "predictions = celltypist.annotate(adata_2000, model = 'Immune_All_Low.pkl', majority_voting = True)"
   ]
  },
  {
   "cell_type": "markdown",
   "id": "personal-marijuana",
   "metadata": {
    "id": "personal-marijuana"
   },
   "source": [
    "By default (`majority_voting = False`), CellTypist will infer the identity of each query cell independently. This leads to raw predicted cell type labels, and usually finishes within seconds or minutes depending on the size of the query data. You can also turn on the majority-voting classifier (`majority_voting = True`), which refines cell identities within local subclusters after an over-clustering approach at the cost of increased runtime."
   ]
  },
  {
   "cell_type": "markdown",
   "id": "future-finder",
   "metadata": {
    "id": "future-finder",
    "tags": []
   },
   "source": [
    "The results include both predicted cell type labels (`predicted_labels`), over-clustering result (`over_clustering`), and predicted labels after majority voting in local subclusters (`majority_voting`). Note in the `predicted_labels`, each query cell gets its inferred label by choosing the most probable cell type among all possible cell types in the given model."
   ]
  },
  {
   "cell_type": "code",
   "execution_count": 38,
   "id": "expired-authorization",
   "metadata": {
    "id": "expired-authorization",
    "outputId": "7c8cc89d-b512-4473-ab1c-a679ae03cd64",
    "tags": []
   },
   "outputs": [
    {
     "data": {
      "text/html": [
       "<div>\n",
       "<style scoped>\n",
       "    .dataframe tbody tr th:only-of-type {\n",
       "        vertical-align: middle;\n",
       "    }\n",
       "\n",
       "    .dataframe tbody tr th {\n",
       "        vertical-align: top;\n",
       "    }\n",
       "\n",
       "    .dataframe thead th {\n",
       "        text-align: right;\n",
       "    }\n",
       "</style>\n",
       "<table border=\"1\" class=\"dataframe\">\n",
       "  <thead>\n",
       "    <tr style=\"text-align: right;\">\n",
       "      <th></th>\n",
       "      <th>predicted_labels</th>\n",
       "      <th>over_clustering</th>\n",
       "      <th>majority_voting</th>\n",
       "    </tr>\n",
       "    <tr>\n",
       "      <th>barcode</th>\n",
       "      <th></th>\n",
       "      <th></th>\n",
       "      <th></th>\n",
       "    </tr>\n",
       "  </thead>\n",
       "  <tbody>\n",
       "    <tr>\n",
       "      <th>AAACCTGTCTTTAGTC_NS_02</th>\n",
       "      <td>NK cells</td>\n",
       "      <td>21</td>\n",
       "      <td>NK cells</td>\n",
       "    </tr>\n",
       "    <tr>\n",
       "      <th>AAACGGGAGCTTTGGT_NS_02</th>\n",
       "      <td>CD16+ NK cells</td>\n",
       "      <td>21</td>\n",
       "      <td>NK cells</td>\n",
       "    </tr>\n",
       "    <tr>\n",
       "      <th>AAACGGGCATACGCCG_NS_02</th>\n",
       "      <td>NK cells</td>\n",
       "      <td>21</td>\n",
       "      <td>NK cells</td>\n",
       "    </tr>\n",
       "    <tr>\n",
       "      <th>AAAGATGAGAGGTAGA_NS_02</th>\n",
       "      <td>Regulatory T cells</td>\n",
       "      <td>193</td>\n",
       "      <td>Tcm/Naive helper T cells</td>\n",
       "    </tr>\n",
       "    <tr>\n",
       "      <th>AAAGATGAGGCGTACA_NS_02</th>\n",
       "      <td>NK cells</td>\n",
       "      <td>21</td>\n",
       "      <td>NK cells</td>\n",
       "    </tr>\n",
       "    <tr>\n",
       "      <th>...</th>\n",
       "      <td>...</td>\n",
       "      <td>...</td>\n",
       "      <td>...</td>\n",
       "    </tr>\n",
       "    <tr>\n",
       "      <th>GSE193745_GSE193745_TTTGCGCCATGTAAGA-1_17</th>\n",
       "      <td>Intermediate macrophages</td>\n",
       "      <td>208</td>\n",
       "      <td>Alveolar macrophages</td>\n",
       "    </tr>\n",
       "    <tr>\n",
       "      <th>GSE193745_GSE193745_TTTGCGCGTCGCATCG-1_17</th>\n",
       "      <td>Tem/Trm cytotoxic T cells</td>\n",
       "      <td>38</td>\n",
       "      <td>Tem/Trm cytotoxic T cells</td>\n",
       "    </tr>\n",
       "    <tr>\n",
       "      <th>GSE193745_GSE193745_TTTGGTTAGGTGTTAA-1_17</th>\n",
       "      <td>DC2</td>\n",
       "      <td>236</td>\n",
       "      <td>Classical monocytes</td>\n",
       "    </tr>\n",
       "    <tr>\n",
       "      <th>GSE193745_GSE193745_TTTGGTTCAAATACAG-1_17</th>\n",
       "      <td>Regulatory T cells</td>\n",
       "      <td>204</td>\n",
       "      <td>Regulatory T cells</td>\n",
       "    </tr>\n",
       "    <tr>\n",
       "      <th>GSE193745_GSE193745_TTTGGTTGTAGCCTCG-1_17</th>\n",
       "      <td>Erythrophagocytic macrophages</td>\n",
       "      <td>208</td>\n",
       "      <td>Alveolar macrophages</td>\n",
       "    </tr>\n",
       "  </tbody>\n",
       "</table>\n",
       "<p>46258 rows × 3 columns</p>\n",
       "</div>"
      ],
      "text/plain": [
       "                                                        predicted_labels  \\\n",
       "barcode                                                                    \n",
       "AAACCTGTCTTTAGTC_NS_02                                          NK cells   \n",
       "AAACGGGAGCTTTGGT_NS_02                                    CD16+ NK cells   \n",
       "AAACGGGCATACGCCG_NS_02                                          NK cells   \n",
       "AAAGATGAGAGGTAGA_NS_02                                Regulatory T cells   \n",
       "AAAGATGAGGCGTACA_NS_02                                          NK cells   \n",
       "...                                                                  ...   \n",
       "GSE193745_GSE193745_TTTGCGCCATGTAAGA-1_17       Intermediate macrophages   \n",
       "GSE193745_GSE193745_TTTGCGCGTCGCATCG-1_17      Tem/Trm cytotoxic T cells   \n",
       "GSE193745_GSE193745_TTTGGTTAGGTGTTAA-1_17                            DC2   \n",
       "GSE193745_GSE193745_TTTGGTTCAAATACAG-1_17             Regulatory T cells   \n",
       "GSE193745_GSE193745_TTTGGTTGTAGCCTCG-1_17  Erythrophagocytic macrophages   \n",
       "\n",
       "                                          over_clustering  \\\n",
       "barcode                                                     \n",
       "AAACCTGTCTTTAGTC_NS_02                                 21   \n",
       "AAACGGGAGCTTTGGT_NS_02                                 21   \n",
       "AAACGGGCATACGCCG_NS_02                                 21   \n",
       "AAAGATGAGAGGTAGA_NS_02                                193   \n",
       "AAAGATGAGGCGTACA_NS_02                                 21   \n",
       "...                                                   ...   \n",
       "GSE193745_GSE193745_TTTGCGCCATGTAAGA-1_17             208   \n",
       "GSE193745_GSE193745_TTTGCGCGTCGCATCG-1_17              38   \n",
       "GSE193745_GSE193745_TTTGGTTAGGTGTTAA-1_17             236   \n",
       "GSE193745_GSE193745_TTTGGTTCAAATACAG-1_17             204   \n",
       "GSE193745_GSE193745_TTTGGTTGTAGCCTCG-1_17             208   \n",
       "\n",
       "                                                     majority_voting  \n",
       "barcode                                                               \n",
       "AAACCTGTCTTTAGTC_NS_02                                      NK cells  \n",
       "AAACGGGAGCTTTGGT_NS_02                                      NK cells  \n",
       "AAACGGGCATACGCCG_NS_02                                      NK cells  \n",
       "AAAGATGAGAGGTAGA_NS_02                      Tcm/Naive helper T cells  \n",
       "AAAGATGAGGCGTACA_NS_02                                      NK cells  \n",
       "...                                                              ...  \n",
       "GSE193745_GSE193745_TTTGCGCCATGTAAGA-1_17       Alveolar macrophages  \n",
       "GSE193745_GSE193745_TTTGCGCGTCGCATCG-1_17  Tem/Trm cytotoxic T cells  \n",
       "GSE193745_GSE193745_TTTGGTTAGGTGTTAA-1_17        Classical monocytes  \n",
       "GSE193745_GSE193745_TTTGGTTCAAATACAG-1_17         Regulatory T cells  \n",
       "GSE193745_GSE193745_TTTGGTTGTAGCCTCG-1_17       Alveolar macrophages  \n",
       "\n",
       "[46258 rows x 3 columns]"
      ]
     },
     "execution_count": 38,
     "metadata": {},
     "output_type": "execute_result"
    }
   ],
   "source": [
    "predictions.predicted_labels"
   ]
  },
  {
   "cell_type": "markdown",
   "id": "separated-first",
   "metadata": {
    "id": "separated-first"
   },
   "source": [
    "Transform the prediction result into an `AnnData`."
   ]
  },
  {
   "cell_type": "code",
   "execution_count": 39,
   "id": "sharing-router",
   "metadata": {
    "id": "sharing-router"
   },
   "outputs": [],
   "source": [
    "# Get an `AnnData` with predicted labels embedded into the cell metadata columns.\n",
    "adata = predictions.to_adata()"
   ]
  },
  {
   "cell_type": "markdown",
   "id": "varying-characteristic",
   "metadata": {
    "id": "varying-characteristic"
   },
   "source": [
    "Compared to `adata_2000`, the new `adata` has additional prediction information in `adata.obs` (`predicted_labels`, `over_clustering`, `majority_voting` and `conf_score`). Of note, all these columns can be prefixed with a specific string by setting `prefix` in [to_adata](https://celltypist.readthedocs.io/en/latest/celltypist.classifier.AnnotationResult.html#celltypist.classifier.AnnotationResult.to_adata)."
   ]
  },
  {
   "cell_type": "code",
   "execution_count": 40,
   "id": "virgin-export",
   "metadata": {
    "id": "virgin-export",
    "outputId": "04adbf20-73c6-4081-82fb-81562e2facff",
    "tags": []
   },
   "outputs": [
    {
     "data": {
      "text/html": [
       "<div>\n",
       "<style scoped>\n",
       "    .dataframe tbody tr th:only-of-type {\n",
       "        vertical-align: middle;\n",
       "    }\n",
       "\n",
       "    .dataframe tbody tr th {\n",
       "        vertical-align: top;\n",
       "    }\n",
       "\n",
       "    .dataframe thead th {\n",
       "        text-align: right;\n",
       "    }\n",
       "</style>\n",
       "<table border=\"1\" class=\"dataframe\">\n",
       "  <thead>\n",
       "    <tr style=\"text-align: right;\">\n",
       "      <th></th>\n",
       "      <th>orig.ident</th>\n",
       "      <th>nCount_RNA</th>\n",
       "      <th>nFeature_RNA</th>\n",
       "      <th>name</th>\n",
       "      <th>stage</th>\n",
       "      <th>percent.mt</th>\n",
       "      <th>percent.ribo</th>\n",
       "      <th>No.Exprs</th>\n",
       "      <th>log10GenesPerUMI</th>\n",
       "      <th>nCount_decontX</th>\n",
       "      <th>...</th>\n",
       "      <th>seurat_clusters</th>\n",
       "      <th>rpca.cluster.0.5</th>\n",
       "      <th>harmony.cluster.0.5</th>\n",
       "      <th>barcode</th>\n",
       "      <th>UMAP_1</th>\n",
       "      <th>UMAP_2</th>\n",
       "      <th>predicted_labels</th>\n",
       "      <th>over_clustering</th>\n",
       "      <th>majority_voting</th>\n",
       "      <th>conf_score</th>\n",
       "    </tr>\n",
       "    <tr>\n",
       "      <th>barcode</th>\n",
       "      <th></th>\n",
       "      <th></th>\n",
       "      <th></th>\n",
       "      <th></th>\n",
       "      <th></th>\n",
       "      <th></th>\n",
       "      <th></th>\n",
       "      <th></th>\n",
       "      <th></th>\n",
       "      <th></th>\n",
       "      <th></th>\n",
       "      <th></th>\n",
       "      <th></th>\n",
       "      <th></th>\n",
       "      <th></th>\n",
       "      <th></th>\n",
       "      <th></th>\n",
       "      <th></th>\n",
       "      <th></th>\n",
       "      <th></th>\n",
       "      <th></th>\n",
       "    </tr>\n",
       "  </thead>\n",
       "  <tbody>\n",
       "    <tr>\n",
       "      <th>AAACCTGTCTTTAGTC_NS_02</th>\n",
       "      <td>BrainMet_SeuratV5_GSE131907_NS_02</td>\n",
       "      <td>3152</td>\n",
       "      <td>1297</td>\n",
       "      <td>NS_02</td>\n",
       "      <td>GSE131907_NS_02</td>\n",
       "      <td>3.458122</td>\n",
       "      <td>22.747462</td>\n",
       "      <td>1</td>\n",
       "      <td>0.889771</td>\n",
       "      <td>2972.026068</td>\n",
       "      <td>...</td>\n",
       "      <td>10</td>\n",
       "      <td>6</td>\n",
       "      <td>10</td>\n",
       "      <td>AAACCTGTCTTTAGTC_NS_02</td>\n",
       "      <td>6.517687</td>\n",
       "      <td>4.592167</td>\n",
       "      <td>NK cells</td>\n",
       "      <td>21</td>\n",
       "      <td>NK cells</td>\n",
       "      <td>0.057789</td>\n",
       "    </tr>\n",
       "    <tr>\n",
       "      <th>AAACGGGAGCTTTGGT_NS_02</th>\n",
       "      <td>BrainMet_SeuratV5_GSE131907_NS_02</td>\n",
       "      <td>3361</td>\n",
       "      <td>1223</td>\n",
       "      <td>NS_02</td>\n",
       "      <td>GSE131907_NS_02</td>\n",
       "      <td>3.332342</td>\n",
       "      <td>22.909848</td>\n",
       "      <td>1</td>\n",
       "      <td>0.875501</td>\n",
       "      <td>3143.914241</td>\n",
       "      <td>...</td>\n",
       "      <td>12</td>\n",
       "      <td>0</td>\n",
       "      <td>12</td>\n",
       "      <td>AAACGGGAGCTTTGGT_NS_02</td>\n",
       "      <td>-3.119733</td>\n",
       "      <td>6.495010</td>\n",
       "      <td>CD16+ NK cells</td>\n",
       "      <td>21</td>\n",
       "      <td>NK cells</td>\n",
       "      <td>0.983818</td>\n",
       "    </tr>\n",
       "    <tr>\n",
       "      <th>AAACGGGCATACGCCG_NS_02</th>\n",
       "      <td>BrainMet_SeuratV5_GSE131907_NS_02</td>\n",
       "      <td>2910</td>\n",
       "      <td>1030</td>\n",
       "      <td>NS_02</td>\n",
       "      <td>GSE131907_NS_02</td>\n",
       "      <td>3.573883</td>\n",
       "      <td>31.030928</td>\n",
       "      <td>1</td>\n",
       "      <td>0.869784</td>\n",
       "      <td>2792.763364</td>\n",
       "      <td>...</td>\n",
       "      <td>3</td>\n",
       "      <td>0</td>\n",
       "      <td>3</td>\n",
       "      <td>AAACGGGCATACGCCG_NS_02</td>\n",
       "      <td>-3.296767</td>\n",
       "      <td>0.531751</td>\n",
       "      <td>NK cells</td>\n",
       "      <td>21</td>\n",
       "      <td>NK cells</td>\n",
       "      <td>0.192141</td>\n",
       "    </tr>\n",
       "    <tr>\n",
       "      <th>AAAGATGAGAGGTAGA_NS_02</th>\n",
       "      <td>BrainMet_SeuratV5_GSE131907_NS_02</td>\n",
       "      <td>3634</td>\n",
       "      <td>1117</td>\n",
       "      <td>NS_02</td>\n",
       "      <td>GSE131907_NS_02</td>\n",
       "      <td>2.394056</td>\n",
       "      <td>38.580077</td>\n",
       "      <td>1</td>\n",
       "      <td>0.856102</td>\n",
       "      <td>3430.073606</td>\n",
       "      <td>...</td>\n",
       "      <td>1</td>\n",
       "      <td>1</td>\n",
       "      <td>1</td>\n",
       "      <td>AAAGATGAGAGGTAGA_NS_02</td>\n",
       "      <td>-2.616868</td>\n",
       "      <td>-2.451068</td>\n",
       "      <td>Regulatory T cells</td>\n",
       "      <td>193</td>\n",
       "      <td>Tcm/Naive helper T cells</td>\n",
       "      <td>0.081304</td>\n",
       "    </tr>\n",
       "    <tr>\n",
       "      <th>AAAGATGAGGCGTACA_NS_02</th>\n",
       "      <td>BrainMet_SeuratV5_GSE131907_NS_02</td>\n",
       "      <td>2789</td>\n",
       "      <td>992</td>\n",
       "      <td>NS_02</td>\n",
       "      <td>GSE131907_NS_02</td>\n",
       "      <td>2.832556</td>\n",
       "      <td>29.006812</td>\n",
       "      <td>1</td>\n",
       "      <td>0.869701</td>\n",
       "      <td>2588.613492</td>\n",
       "      <td>...</td>\n",
       "      <td>0</td>\n",
       "      <td>0</td>\n",
       "      <td>0</td>\n",
       "      <td>AAAGATGAGGCGTACA_NS_02</td>\n",
       "      <td>-6.262387</td>\n",
       "      <td>3.076460</td>\n",
       "      <td>NK cells</td>\n",
       "      <td>21</td>\n",
       "      <td>NK cells</td>\n",
       "      <td>0.339205</td>\n",
       "    </tr>\n",
       "    <tr>\n",
       "      <th>...</th>\n",
       "      <td>...</td>\n",
       "      <td>...</td>\n",
       "      <td>...</td>\n",
       "      <td>...</td>\n",
       "      <td>...</td>\n",
       "      <td>...</td>\n",
       "      <td>...</td>\n",
       "      <td>...</td>\n",
       "      <td>...</td>\n",
       "      <td>...</td>\n",
       "      <td>...</td>\n",
       "      <td>...</td>\n",
       "      <td>...</td>\n",
       "      <td>...</td>\n",
       "      <td>...</td>\n",
       "      <td>...</td>\n",
       "      <td>...</td>\n",
       "      <td>...</td>\n",
       "      <td>...</td>\n",
       "      <td>...</td>\n",
       "      <td>...</td>\n",
       "    </tr>\n",
       "    <tr>\n",
       "      <th>GSE193745_GSE193745_TTTGCGCCATGTAAGA-1_17</th>\n",
       "      <td>GSE193745</td>\n",
       "      <td>6524</td>\n",
       "      <td>2005</td>\n",
       "      <td>merge17samples</td>\n",
       "      <td>NaN</td>\n",
       "      <td>1.486818</td>\n",
       "      <td>6.100552</td>\n",
       "      <td>1</td>\n",
       "      <td>0.865671</td>\n",
       "      <td>6508.388275</td>\n",
       "      <td>...</td>\n",
       "      <td>6</td>\n",
       "      <td>8</td>\n",
       "      <td>6</td>\n",
       "      <td>GSE193745_GSE193745_TTTGCGCCATGTAAGA-1_17</td>\n",
       "      <td>6.989755</td>\n",
       "      <td>-1.927703</td>\n",
       "      <td>Intermediate macrophages</td>\n",
       "      <td>208</td>\n",
       "      <td>Alveolar macrophages</td>\n",
       "      <td>0.098222</td>\n",
       "    </tr>\n",
       "    <tr>\n",
       "      <th>GSE193745_GSE193745_TTTGCGCGTCGCATCG-1_17</th>\n",
       "      <td>GSE193745</td>\n",
       "      <td>15939</td>\n",
       "      <td>4273</td>\n",
       "      <td>merge17samples</td>\n",
       "      <td>NaN</td>\n",
       "      <td>3.507121</td>\n",
       "      <td>18.301023</td>\n",
       "      <td>1</td>\n",
       "      <td>0.863954</td>\n",
       "      <td>15289.379068</td>\n",
       "      <td>...</td>\n",
       "      <td>3</td>\n",
       "      <td>0</td>\n",
       "      <td>3</td>\n",
       "      <td>GSE193745_GSE193745_TTTGCGCGTCGCATCG-1_17</td>\n",
       "      <td>-4.178997</td>\n",
       "      <td>0.325401</td>\n",
       "      <td>Tem/Trm cytotoxic T cells</td>\n",
       "      <td>38</td>\n",
       "      <td>Tem/Trm cytotoxic T cells</td>\n",
       "      <td>0.208177</td>\n",
       "    </tr>\n",
       "    <tr>\n",
       "      <th>GSE193745_GSE193745_TTTGGTTAGGTGTTAA-1_17</th>\n",
       "      <td>GSE193745</td>\n",
       "      <td>13440</td>\n",
       "      <td>3335</td>\n",
       "      <td>merge17samples</td>\n",
       "      <td>NaN</td>\n",
       "      <td>3.005952</td>\n",
       "      <td>18.080357</td>\n",
       "      <td>1</td>\n",
       "      <td>0.853381</td>\n",
       "      <td>10514.332278</td>\n",
       "      <td>...</td>\n",
       "      <td>7</td>\n",
       "      <td>8</td>\n",
       "      <td>7</td>\n",
       "      <td>GSE193745_GSE193745_TTTGGTTAGGTGTTAA-1_17</td>\n",
       "      <td>10.318720</td>\n",
       "      <td>-1.993642</td>\n",
       "      <td>DC2</td>\n",
       "      <td>236</td>\n",
       "      <td>Classical monocytes</td>\n",
       "      <td>0.578944</td>\n",
       "    </tr>\n",
       "    <tr>\n",
       "      <th>GSE193745_GSE193745_TTTGGTTCAAATACAG-1_17</th>\n",
       "      <td>GSE193745</td>\n",
       "      <td>9480</td>\n",
       "      <td>3083</td>\n",
       "      <td>merge17samples</td>\n",
       "      <td>NaN</td>\n",
       "      <td>4.641350</td>\n",
       "      <td>16.529536</td>\n",
       "      <td>1</td>\n",
       "      <td>0.877330</td>\n",
       "      <td>9379.084767</td>\n",
       "      <td>...</td>\n",
       "      <td>4</td>\n",
       "      <td>3</td>\n",
       "      <td>4</td>\n",
       "      <td>GSE193745_GSE193745_TTTGGTTCAAATACAG-1_17</td>\n",
       "      <td>-6.674124</td>\n",
       "      <td>-1.595920</td>\n",
       "      <td>Regulatory T cells</td>\n",
       "      <td>204</td>\n",
       "      <td>Regulatory T cells</td>\n",
       "      <td>0.999452</td>\n",
       "    </tr>\n",
       "    <tr>\n",
       "      <th>GSE193745_GSE193745_TTTGGTTGTAGCCTCG-1_17</th>\n",
       "      <td>GSE193745</td>\n",
       "      <td>5172</td>\n",
       "      <td>1909</td>\n",
       "      <td>merge17samples</td>\n",
       "      <td>NaN</td>\n",
       "      <td>2.610209</td>\n",
       "      <td>8.333333</td>\n",
       "      <td>1</td>\n",
       "      <td>0.883443</td>\n",
       "      <td>4954.718482</td>\n",
       "      <td>...</td>\n",
       "      <td>6</td>\n",
       "      <td>8</td>\n",
       "      <td>6</td>\n",
       "      <td>GSE193745_GSE193745_TTTGGTTGTAGCCTCG-1_17</td>\n",
       "      <td>7.007161</td>\n",
       "      <td>-2.004806</td>\n",
       "      <td>Erythrophagocytic macrophages</td>\n",
       "      <td>208</td>\n",
       "      <td>Alveolar macrophages</td>\n",
       "      <td>0.031356</td>\n",
       "    </tr>\n",
       "  </tbody>\n",
       "</table>\n",
       "<p>46258 rows × 27 columns</p>\n",
       "</div>"
      ],
      "text/plain": [
       "                                                                  orig.ident  \\\n",
       "barcode                                                                        \n",
       "AAACCTGTCTTTAGTC_NS_02                     BrainMet_SeuratV5_GSE131907_NS_02   \n",
       "AAACGGGAGCTTTGGT_NS_02                     BrainMet_SeuratV5_GSE131907_NS_02   \n",
       "AAACGGGCATACGCCG_NS_02                     BrainMet_SeuratV5_GSE131907_NS_02   \n",
       "AAAGATGAGAGGTAGA_NS_02                     BrainMet_SeuratV5_GSE131907_NS_02   \n",
       "AAAGATGAGGCGTACA_NS_02                     BrainMet_SeuratV5_GSE131907_NS_02   \n",
       "...                                                                      ...   \n",
       "GSE193745_GSE193745_TTTGCGCCATGTAAGA-1_17                          GSE193745   \n",
       "GSE193745_GSE193745_TTTGCGCGTCGCATCG-1_17                          GSE193745   \n",
       "GSE193745_GSE193745_TTTGGTTAGGTGTTAA-1_17                          GSE193745   \n",
       "GSE193745_GSE193745_TTTGGTTCAAATACAG-1_17                          GSE193745   \n",
       "GSE193745_GSE193745_TTTGGTTGTAGCCTCG-1_17                          GSE193745   \n",
       "\n",
       "                                           nCount_RNA  nFeature_RNA  \\\n",
       "barcode                                                               \n",
       "AAACCTGTCTTTAGTC_NS_02                           3152          1297   \n",
       "AAACGGGAGCTTTGGT_NS_02                           3361          1223   \n",
       "AAACGGGCATACGCCG_NS_02                           2910          1030   \n",
       "AAAGATGAGAGGTAGA_NS_02                           3634          1117   \n",
       "AAAGATGAGGCGTACA_NS_02                           2789           992   \n",
       "...                                               ...           ...   \n",
       "GSE193745_GSE193745_TTTGCGCCATGTAAGA-1_17        6524          2005   \n",
       "GSE193745_GSE193745_TTTGCGCGTCGCATCG-1_17       15939          4273   \n",
       "GSE193745_GSE193745_TTTGGTTAGGTGTTAA-1_17       13440          3335   \n",
       "GSE193745_GSE193745_TTTGGTTCAAATACAG-1_17        9480          3083   \n",
       "GSE193745_GSE193745_TTTGGTTGTAGCCTCG-1_17        5172          1909   \n",
       "\n",
       "                                                     name            stage  \\\n",
       "barcode                                                                      \n",
       "AAACCTGTCTTTAGTC_NS_02                              NS_02  GSE131907_NS_02   \n",
       "AAACGGGAGCTTTGGT_NS_02                              NS_02  GSE131907_NS_02   \n",
       "AAACGGGCATACGCCG_NS_02                              NS_02  GSE131907_NS_02   \n",
       "AAAGATGAGAGGTAGA_NS_02                              NS_02  GSE131907_NS_02   \n",
       "AAAGATGAGGCGTACA_NS_02                              NS_02  GSE131907_NS_02   \n",
       "...                                                   ...              ...   \n",
       "GSE193745_GSE193745_TTTGCGCCATGTAAGA-1_17  merge17samples              NaN   \n",
       "GSE193745_GSE193745_TTTGCGCGTCGCATCG-1_17  merge17samples              NaN   \n",
       "GSE193745_GSE193745_TTTGGTTAGGTGTTAA-1_17  merge17samples              NaN   \n",
       "GSE193745_GSE193745_TTTGGTTCAAATACAG-1_17  merge17samples              NaN   \n",
       "GSE193745_GSE193745_TTTGGTTGTAGCCTCG-1_17  merge17samples              NaN   \n",
       "\n",
       "                                           percent.mt  percent.ribo  No.Exprs  \\\n",
       "barcode                                                                         \n",
       "AAACCTGTCTTTAGTC_NS_02                       3.458122     22.747462         1   \n",
       "AAACGGGAGCTTTGGT_NS_02                       3.332342     22.909848         1   \n",
       "AAACGGGCATACGCCG_NS_02                       3.573883     31.030928         1   \n",
       "AAAGATGAGAGGTAGA_NS_02                       2.394056     38.580077         1   \n",
       "AAAGATGAGGCGTACA_NS_02                       2.832556     29.006812         1   \n",
       "...                                               ...           ...       ...   \n",
       "GSE193745_GSE193745_TTTGCGCCATGTAAGA-1_17    1.486818      6.100552         1   \n",
       "GSE193745_GSE193745_TTTGCGCGTCGCATCG-1_17    3.507121     18.301023         1   \n",
       "GSE193745_GSE193745_TTTGGTTAGGTGTTAA-1_17    3.005952     18.080357         1   \n",
       "GSE193745_GSE193745_TTTGGTTCAAATACAG-1_17    4.641350     16.529536         1   \n",
       "GSE193745_GSE193745_TTTGGTTGTAGCCTCG-1_17    2.610209      8.333333         1   \n",
       "\n",
       "                                           log10GenesPerUMI  nCount_decontX  \\\n",
       "barcode                                                                       \n",
       "AAACCTGTCTTTAGTC_NS_02                             0.889771     2972.026068   \n",
       "AAACGGGAGCTTTGGT_NS_02                             0.875501     3143.914241   \n",
       "AAACGGGCATACGCCG_NS_02                             0.869784     2792.763364   \n",
       "AAAGATGAGAGGTAGA_NS_02                             0.856102     3430.073606   \n",
       "AAAGATGAGGCGTACA_NS_02                             0.869701     2588.613492   \n",
       "...                                                     ...             ...   \n",
       "GSE193745_GSE193745_TTTGCGCCATGTAAGA-1_17          0.865671     6508.388275   \n",
       "GSE193745_GSE193745_TTTGCGCGTCGCATCG-1_17          0.863954    15289.379068   \n",
       "GSE193745_GSE193745_TTTGGTTAGGTGTTAA-1_17          0.853381    10514.332278   \n",
       "GSE193745_GSE193745_TTTGGTTCAAATACAG-1_17          0.877330     9379.084767   \n",
       "GSE193745_GSE193745_TTTGGTTGTAGCCTCG-1_17          0.883443     4954.718482   \n",
       "\n",
       "                                           ...  seurat_clusters  \\\n",
       "barcode                                    ...                    \n",
       "AAACCTGTCTTTAGTC_NS_02                     ...               10   \n",
       "AAACGGGAGCTTTGGT_NS_02                     ...               12   \n",
       "AAACGGGCATACGCCG_NS_02                     ...                3   \n",
       "AAAGATGAGAGGTAGA_NS_02                     ...                1   \n",
       "AAAGATGAGGCGTACA_NS_02                     ...                0   \n",
       "...                                        ...              ...   \n",
       "GSE193745_GSE193745_TTTGCGCCATGTAAGA-1_17  ...                6   \n",
       "GSE193745_GSE193745_TTTGCGCGTCGCATCG-1_17  ...                3   \n",
       "GSE193745_GSE193745_TTTGGTTAGGTGTTAA-1_17  ...                7   \n",
       "GSE193745_GSE193745_TTTGGTTCAAATACAG-1_17  ...                4   \n",
       "GSE193745_GSE193745_TTTGGTTGTAGCCTCG-1_17  ...                6   \n",
       "\n",
       "                                           rpca.cluster.0.5  \\\n",
       "barcode                                                       \n",
       "AAACCTGTCTTTAGTC_NS_02                                    6   \n",
       "AAACGGGAGCTTTGGT_NS_02                                    0   \n",
       "AAACGGGCATACGCCG_NS_02                                    0   \n",
       "AAAGATGAGAGGTAGA_NS_02                                    1   \n",
       "AAAGATGAGGCGTACA_NS_02                                    0   \n",
       "...                                                     ...   \n",
       "GSE193745_GSE193745_TTTGCGCCATGTAAGA-1_17                 8   \n",
       "GSE193745_GSE193745_TTTGCGCGTCGCATCG-1_17                 0   \n",
       "GSE193745_GSE193745_TTTGGTTAGGTGTTAA-1_17                 8   \n",
       "GSE193745_GSE193745_TTTGGTTCAAATACAG-1_17                 3   \n",
       "GSE193745_GSE193745_TTTGGTTGTAGCCTCG-1_17                 8   \n",
       "\n",
       "                                           harmony.cluster.0.5  \\\n",
       "barcode                                                          \n",
       "AAACCTGTCTTTAGTC_NS_02                                      10   \n",
       "AAACGGGAGCTTTGGT_NS_02                                      12   \n",
       "AAACGGGCATACGCCG_NS_02                                       3   \n",
       "AAAGATGAGAGGTAGA_NS_02                                       1   \n",
       "AAAGATGAGGCGTACA_NS_02                                       0   \n",
       "...                                                        ...   \n",
       "GSE193745_GSE193745_TTTGCGCCATGTAAGA-1_17                    6   \n",
       "GSE193745_GSE193745_TTTGCGCGTCGCATCG-1_17                    3   \n",
       "GSE193745_GSE193745_TTTGGTTAGGTGTTAA-1_17                    7   \n",
       "GSE193745_GSE193745_TTTGGTTCAAATACAG-1_17                    4   \n",
       "GSE193745_GSE193745_TTTGGTTGTAGCCTCG-1_17                    6   \n",
       "\n",
       "                                                                             barcode  \\\n",
       "barcode                                                                                \n",
       "AAACCTGTCTTTAGTC_NS_02                                        AAACCTGTCTTTAGTC_NS_02   \n",
       "AAACGGGAGCTTTGGT_NS_02                                        AAACGGGAGCTTTGGT_NS_02   \n",
       "AAACGGGCATACGCCG_NS_02                                        AAACGGGCATACGCCG_NS_02   \n",
       "AAAGATGAGAGGTAGA_NS_02                                        AAAGATGAGAGGTAGA_NS_02   \n",
       "AAAGATGAGGCGTACA_NS_02                                        AAAGATGAGGCGTACA_NS_02   \n",
       "...                                                                              ...   \n",
       "GSE193745_GSE193745_TTTGCGCCATGTAAGA-1_17  GSE193745_GSE193745_TTTGCGCCATGTAAGA-1_17   \n",
       "GSE193745_GSE193745_TTTGCGCGTCGCATCG-1_17  GSE193745_GSE193745_TTTGCGCGTCGCATCG-1_17   \n",
       "GSE193745_GSE193745_TTTGGTTAGGTGTTAA-1_17  GSE193745_GSE193745_TTTGGTTAGGTGTTAA-1_17   \n",
       "GSE193745_GSE193745_TTTGGTTCAAATACAG-1_17  GSE193745_GSE193745_TTTGGTTCAAATACAG-1_17   \n",
       "GSE193745_GSE193745_TTTGGTTGTAGCCTCG-1_17  GSE193745_GSE193745_TTTGGTTGTAGCCTCG-1_17   \n",
       "\n",
       "                                              UMAP_1    UMAP_2  \\\n",
       "barcode                                                          \n",
       "AAACCTGTCTTTAGTC_NS_02                      6.517687  4.592167   \n",
       "AAACGGGAGCTTTGGT_NS_02                     -3.119733  6.495010   \n",
       "AAACGGGCATACGCCG_NS_02                     -3.296767  0.531751   \n",
       "AAAGATGAGAGGTAGA_NS_02                     -2.616868 -2.451068   \n",
       "AAAGATGAGGCGTACA_NS_02                     -6.262387  3.076460   \n",
       "...                                              ...       ...   \n",
       "GSE193745_GSE193745_TTTGCGCCATGTAAGA-1_17   6.989755 -1.927703   \n",
       "GSE193745_GSE193745_TTTGCGCGTCGCATCG-1_17  -4.178997  0.325401   \n",
       "GSE193745_GSE193745_TTTGGTTAGGTGTTAA-1_17  10.318720 -1.993642   \n",
       "GSE193745_GSE193745_TTTGGTTCAAATACAG-1_17  -6.674124 -1.595920   \n",
       "GSE193745_GSE193745_TTTGGTTGTAGCCTCG-1_17   7.007161 -2.004806   \n",
       "\n",
       "                                                        predicted_labels  \\\n",
       "barcode                                                                    \n",
       "AAACCTGTCTTTAGTC_NS_02                                          NK cells   \n",
       "AAACGGGAGCTTTGGT_NS_02                                    CD16+ NK cells   \n",
       "AAACGGGCATACGCCG_NS_02                                          NK cells   \n",
       "AAAGATGAGAGGTAGA_NS_02                                Regulatory T cells   \n",
       "AAAGATGAGGCGTACA_NS_02                                          NK cells   \n",
       "...                                                                  ...   \n",
       "GSE193745_GSE193745_TTTGCGCCATGTAAGA-1_17       Intermediate macrophages   \n",
       "GSE193745_GSE193745_TTTGCGCGTCGCATCG-1_17      Tem/Trm cytotoxic T cells   \n",
       "GSE193745_GSE193745_TTTGGTTAGGTGTTAA-1_17                            DC2   \n",
       "GSE193745_GSE193745_TTTGGTTCAAATACAG-1_17             Regulatory T cells   \n",
       "GSE193745_GSE193745_TTTGGTTGTAGCCTCG-1_17  Erythrophagocytic macrophages   \n",
       "\n",
       "                                           over_clustering  \\\n",
       "barcode                                                      \n",
       "AAACCTGTCTTTAGTC_NS_02                                  21   \n",
       "AAACGGGAGCTTTGGT_NS_02                                  21   \n",
       "AAACGGGCATACGCCG_NS_02                                  21   \n",
       "AAAGATGAGAGGTAGA_NS_02                                 193   \n",
       "AAAGATGAGGCGTACA_NS_02                                  21   \n",
       "...                                                    ...   \n",
       "GSE193745_GSE193745_TTTGCGCCATGTAAGA-1_17              208   \n",
       "GSE193745_GSE193745_TTTGCGCGTCGCATCG-1_17               38   \n",
       "GSE193745_GSE193745_TTTGGTTAGGTGTTAA-1_17              236   \n",
       "GSE193745_GSE193745_TTTGGTTCAAATACAG-1_17              204   \n",
       "GSE193745_GSE193745_TTTGGTTGTAGCCTCG-1_17              208   \n",
       "\n",
       "                                                     majority_voting  \\\n",
       "barcode                                                                \n",
       "AAACCTGTCTTTAGTC_NS_02                                      NK cells   \n",
       "AAACGGGAGCTTTGGT_NS_02                                      NK cells   \n",
       "AAACGGGCATACGCCG_NS_02                                      NK cells   \n",
       "AAAGATGAGAGGTAGA_NS_02                      Tcm/Naive helper T cells   \n",
       "AAAGATGAGGCGTACA_NS_02                                      NK cells   \n",
       "...                                                              ...   \n",
       "GSE193745_GSE193745_TTTGCGCCATGTAAGA-1_17       Alveolar macrophages   \n",
       "GSE193745_GSE193745_TTTGCGCGTCGCATCG-1_17  Tem/Trm cytotoxic T cells   \n",
       "GSE193745_GSE193745_TTTGGTTAGGTGTTAA-1_17        Classical monocytes   \n",
       "GSE193745_GSE193745_TTTGGTTCAAATACAG-1_17         Regulatory T cells   \n",
       "GSE193745_GSE193745_TTTGGTTGTAGCCTCG-1_17       Alveolar macrophages   \n",
       "\n",
       "                                           conf_score  \n",
       "barcode                                                \n",
       "AAACCTGTCTTTAGTC_NS_02                       0.057789  \n",
       "AAACGGGAGCTTTGGT_NS_02                       0.983818  \n",
       "AAACGGGCATACGCCG_NS_02                       0.192141  \n",
       "AAAGATGAGAGGTAGA_NS_02                       0.081304  \n",
       "AAAGATGAGGCGTACA_NS_02                       0.339205  \n",
       "...                                               ...  \n",
       "GSE193745_GSE193745_TTTGCGCCATGTAAGA-1_17    0.098222  \n",
       "GSE193745_GSE193745_TTTGCGCGTCGCATCG-1_17    0.208177  \n",
       "GSE193745_GSE193745_TTTGGTTAGGTGTTAA-1_17    0.578944  \n",
       "GSE193745_GSE193745_TTTGGTTCAAATACAG-1_17    0.999452  \n",
       "GSE193745_GSE193745_TTTGGTTGTAGCCTCG-1_17    0.031356  \n",
       "\n",
       "[46258 rows x 27 columns]"
      ]
     },
     "execution_count": 40,
     "metadata": {},
     "output_type": "execute_result"
    }
   ],
   "source": [
    "adata.obs"
   ]
  },
  {
   "cell_type": "markdown",
   "id": "knowing-steps",
   "metadata": {
    "id": "knowing-steps"
   },
   "source": [
    "In addition to this meta information added, the neighborhood graph constructed during over-clustering is also stored in the `adata`\n",
    "(If a pre-calculated neighborhood graph is already present in the `AnnData`, this graph construction step will be skipped).  \n",
    "This graph can be used to derive the cell embeddings, such as the UMAP coordinates."
   ]
  },
  {
   "cell_type": "code",
   "execution_count": 41,
   "id": "decimal-sweden",
   "metadata": {
    "id": "decimal-sweden"
   },
   "outputs": [],
   "source": [
    "# If the UMAP or any cell embeddings are already available in the `AnnData`, skip this command.\n",
    "sc.tl.umap(adata)"
   ]
  },
  {
   "cell_type": "markdown",
   "id": "effective-terrain",
   "metadata": {
    "id": "effective-terrain"
   },
   "source": [
    "Visualise the prediction results."
   ]
  },
  {
   "cell_type": "code",
   "execution_count": 42,
   "id": "tough-insider",
   "metadata": {
    "id": "tough-insider",
    "outputId": "7c5233fb-0986-4c5d-fb19-7fbfc0c8c820",
    "tags": []
   },
   "outputs": [
    {
     "ename": "KeyError",
     "evalue": "'Could not find key cell_type in .var_names or .obs.columns.'",
     "output_type": "error",
     "traceback": [
      "\u001b[0;31m---------------------------------------------------------------------------\u001b[0m",
      "\u001b[0;31mKeyError\u001b[0m                                  Traceback (most recent call last)",
      "Cell \u001b[0;32mIn[42], line 1\u001b[0m\n\u001b[0;32m----> 1\u001b[0m \u001b[43msc\u001b[49m\u001b[38;5;241;43m.\u001b[39;49m\u001b[43mpl\u001b[49m\u001b[38;5;241;43m.\u001b[39;49m\u001b[43mumap\u001b[49m\u001b[43m(\u001b[49m\u001b[43madata\u001b[49m\u001b[43m,\u001b[49m\u001b[43m \u001b[49m\u001b[43mcolor\u001b[49m\u001b[43m \u001b[49m\u001b[38;5;241;43m=\u001b[39;49m\u001b[43m \u001b[49m\u001b[43m[\u001b[49m\u001b[38;5;124;43m'\u001b[39;49m\u001b[38;5;124;43mcell_type\u001b[39;49m\u001b[38;5;124;43m'\u001b[39;49m\u001b[43m,\u001b[49m\u001b[43m \u001b[49m\u001b[38;5;124;43m'\u001b[39;49m\u001b[38;5;124;43mpredicted_labels\u001b[39;49m\u001b[38;5;124;43m'\u001b[39;49m\u001b[43m,\u001b[49m\u001b[43m \u001b[49m\u001b[38;5;124;43m'\u001b[39;49m\u001b[38;5;124;43mmajority_voting\u001b[39;49m\u001b[38;5;124;43m'\u001b[39;49m\u001b[43m]\u001b[49m\u001b[43m,\u001b[49m\u001b[43m \u001b[49m\u001b[43mlegend_loc\u001b[49m\u001b[43m \u001b[49m\u001b[38;5;241;43m=\u001b[39;49m\u001b[43m \u001b[49m\u001b[38;5;124;43m'\u001b[39;49m\u001b[38;5;124;43mon data\u001b[39;49m\u001b[38;5;124;43m'\u001b[39;49m\u001b[43m)\u001b[49m\n",
      "File \u001b[0;32m~/miniconda3/envs/pytorch/lib/python3.9/site-packages/scanpy/plotting/_tools/scatterplots.py:691\u001b[0m, in \u001b[0;36mumap\u001b[0;34m(adata, **kwargs)\u001b[0m\n\u001b[1;32m    632\u001b[0m \u001b[38;5;129m@_wraps_plot_scatter\u001b[39m\n\u001b[1;32m    633\u001b[0m \u001b[38;5;129m@_doc_params\u001b[39m(\n\u001b[1;32m    634\u001b[0m     adata_color_etc\u001b[38;5;241m=\u001b[39mdoc_adata_color_etc,\n\u001b[0;32m   (...)\u001b[0m\n\u001b[1;32m    638\u001b[0m )\n\u001b[1;32m    639\u001b[0m \u001b[38;5;28;01mdef\u001b[39;00m \u001b[38;5;21mumap\u001b[39m(adata: AnnData, \u001b[38;5;241m*\u001b[39m\u001b[38;5;241m*\u001b[39mkwargs) \u001b[38;5;241m-\u001b[39m\u001b[38;5;241m>\u001b[39m Figure \u001b[38;5;241m|\u001b[39m Axes \u001b[38;5;241m|\u001b[39m \u001b[38;5;28mlist\u001b[39m[Axes] \u001b[38;5;241m|\u001b[39m \u001b[38;5;28;01mNone\u001b[39;00m:\n\u001b[1;32m    640\u001b[0m \u001b[38;5;250m    \u001b[39m\u001b[38;5;124;03m\"\"\"\\\u001b[39;00m\n\u001b[1;32m    641\u001b[0m \u001b[38;5;124;03m    Scatter plot in UMAP basis.\u001b[39;00m\n\u001b[1;32m    642\u001b[0m \n\u001b[0;32m   (...)\u001b[0m\n\u001b[1;32m    689\u001b[0m \u001b[38;5;124;03m    tl.umap\u001b[39;00m\n\u001b[1;32m    690\u001b[0m \u001b[38;5;124;03m    \"\"\"\u001b[39;00m\n\u001b[0;32m--> 691\u001b[0m     \u001b[38;5;28;01mreturn\u001b[39;00m \u001b[43membedding\u001b[49m\u001b[43m(\u001b[49m\u001b[43madata\u001b[49m\u001b[43m,\u001b[49m\u001b[43m \u001b[49m\u001b[38;5;124;43m\"\u001b[39;49m\u001b[38;5;124;43mumap\u001b[39;49m\u001b[38;5;124;43m\"\u001b[39;49m\u001b[43m,\u001b[49m\u001b[43m \u001b[49m\u001b[38;5;241;43m*\u001b[39;49m\u001b[38;5;241;43m*\u001b[39;49m\u001b[43mkwargs\u001b[49m\u001b[43m)\u001b[49m\n",
      "File \u001b[0;32m~/miniconda3/envs/pytorch/lib/python3.9/site-packages/scanpy/plotting/_tools/scatterplots.py:279\u001b[0m, in \u001b[0;36membedding\u001b[0;34m(adata, basis, color, mask_obs, gene_symbols, use_raw, sort_order, edges, edges_width, edges_color, neighbors_key, arrows, arrows_kwds, groups, components, dimensions, layer, projection, scale_factor, color_map, cmap, palette, na_color, na_in_legend, size, frameon, legend_fontsize, legend_fontweight, legend_loc, legend_fontoutline, colorbar_loc, vmax, vmin, vcenter, norm, add_outline, outline_width, outline_color, ncols, hspace, wspace, title, show, save, ax, return_fig, marker, **kwargs)\u001b[0m\n\u001b[1;32m    277\u001b[0m \u001b[38;5;28;01mfor\u001b[39;00m count, (value_to_plot, dims) \u001b[38;5;129;01min\u001b[39;00m \u001b[38;5;28menumerate\u001b[39m(\u001b[38;5;28mzip\u001b[39m(color, dimensions)):\n\u001b[1;32m    278\u001b[0m     kwargs_scatter \u001b[38;5;241m=\u001b[39m kwargs\u001b[38;5;241m.\u001b[39mcopy()  \u001b[38;5;66;03m# is potentially mutated for each plot\u001b[39;00m\n\u001b[0;32m--> 279\u001b[0m     color_source_vector \u001b[38;5;241m=\u001b[39m \u001b[43m_get_color_source_vector\u001b[49m\u001b[43m(\u001b[49m\n\u001b[1;32m    280\u001b[0m \u001b[43m        \u001b[49m\u001b[43madata\u001b[49m\u001b[43m,\u001b[49m\n\u001b[1;32m    281\u001b[0m \u001b[43m        \u001b[49m\u001b[43mvalue_to_plot\u001b[49m\u001b[43m,\u001b[49m\n\u001b[1;32m    282\u001b[0m \u001b[43m        \u001b[49m\u001b[43mlayer\u001b[49m\u001b[38;5;241;43m=\u001b[39;49m\u001b[43mlayer\u001b[49m\u001b[43m,\u001b[49m\n\u001b[1;32m    283\u001b[0m \u001b[43m        \u001b[49m\u001b[43mmask_obs\u001b[49m\u001b[38;5;241;43m=\u001b[39;49m\u001b[43mmask_obs\u001b[49m\u001b[43m,\u001b[49m\n\u001b[1;32m    284\u001b[0m \u001b[43m        \u001b[49m\u001b[43muse_raw\u001b[49m\u001b[38;5;241;43m=\u001b[39;49m\u001b[43muse_raw\u001b[49m\u001b[43m,\u001b[49m\n\u001b[1;32m    285\u001b[0m \u001b[43m        \u001b[49m\u001b[43mgene_symbols\u001b[49m\u001b[38;5;241;43m=\u001b[39;49m\u001b[43mgene_symbols\u001b[49m\u001b[43m,\u001b[49m\n\u001b[1;32m    286\u001b[0m \u001b[43m        \u001b[49m\u001b[43mgroups\u001b[49m\u001b[38;5;241;43m=\u001b[39;49m\u001b[43mgroups\u001b[49m\u001b[43m,\u001b[49m\n\u001b[1;32m    287\u001b[0m \u001b[43m    \u001b[49m\u001b[43m)\u001b[49m\n\u001b[1;32m    288\u001b[0m     color_vector, color_type \u001b[38;5;241m=\u001b[39m _color_vector(\n\u001b[1;32m    289\u001b[0m         adata,\n\u001b[1;32m    290\u001b[0m         value_to_plot,\n\u001b[0;32m   (...)\u001b[0m\n\u001b[1;32m    293\u001b[0m         na_color\u001b[38;5;241m=\u001b[39mna_color,\n\u001b[1;32m    294\u001b[0m     )\n\u001b[1;32m    296\u001b[0m     \u001b[38;5;66;03m# Order points\u001b[39;00m\n",
      "File \u001b[0;32m~/miniconda3/envs/pytorch/lib/python3.9/site-packages/scanpy/plotting/_tools/scatterplots.py:1207\u001b[0m, in \u001b[0;36m_get_color_source_vector\u001b[0;34m(adata, value_to_plot, mask_obs, use_raw, gene_symbols, layer, groups)\u001b[0m\n\u001b[1;32m   1205\u001b[0m     values \u001b[38;5;241m=\u001b[39m adata\u001b[38;5;241m.\u001b[39mraw\u001b[38;5;241m.\u001b[39mobs_vector(value_to_plot)\n\u001b[1;32m   1206\u001b[0m \u001b[38;5;28;01melse\u001b[39;00m:\n\u001b[0;32m-> 1207\u001b[0m     values \u001b[38;5;241m=\u001b[39m \u001b[43madata\u001b[49m\u001b[38;5;241;43m.\u001b[39;49m\u001b[43mobs_vector\u001b[49m\u001b[43m(\u001b[49m\u001b[43mvalue_to_plot\u001b[49m\u001b[43m,\u001b[49m\u001b[43m \u001b[49m\u001b[43mlayer\u001b[49m\u001b[38;5;241;43m=\u001b[39;49m\u001b[43mlayer\u001b[49m\u001b[43m)\u001b[49m\n\u001b[1;32m   1208\u001b[0m \u001b[38;5;28;01mif\u001b[39;00m mask_obs \u001b[38;5;129;01mis\u001b[39;00m \u001b[38;5;129;01mnot\u001b[39;00m \u001b[38;5;28;01mNone\u001b[39;00m:\n\u001b[1;32m   1209\u001b[0m     values[\u001b[38;5;241m~\u001b[39mmask_obs] \u001b[38;5;241m=\u001b[39m np\u001b[38;5;241m.\u001b[39mnan\n",
      "File \u001b[0;32m~/miniconda3/envs/pytorch/lib/python3.9/site-packages/anndata/_core/anndata.py:1301\u001b[0m, in \u001b[0;36mAnnData.obs_vector\u001b[0;34m(self, k, layer)\u001b[0m\n\u001b[1;32m   1295\u001b[0m         warnings\u001b[38;5;241m.\u001b[39mwarn(\n\u001b[1;32m   1296\u001b[0m             \u001b[38;5;124m\"\u001b[39m\u001b[38;5;124mIn a future version of AnnData, access to `.X` by passing\u001b[39m\u001b[38;5;124m\"\u001b[39m\n\u001b[1;32m   1297\u001b[0m             \u001b[38;5;124m\"\u001b[39m\u001b[38;5;124m `layer=\u001b[39m\u001b[38;5;124m'\u001b[39m\u001b[38;5;124mX\u001b[39m\u001b[38;5;124m'\u001b[39m\u001b[38;5;124m` will be removed. Instead pass `layer=None`.\u001b[39m\u001b[38;5;124m\"\u001b[39m,\n\u001b[1;32m   1298\u001b[0m             \u001b[38;5;167;01mFutureWarning\u001b[39;00m,\n\u001b[1;32m   1299\u001b[0m         )\n\u001b[1;32m   1300\u001b[0m         layer \u001b[38;5;241m=\u001b[39m \u001b[38;5;28;01mNone\u001b[39;00m\n\u001b[0;32m-> 1301\u001b[0m \u001b[38;5;28;01mreturn\u001b[39;00m \u001b[43mget_vector\u001b[49m\u001b[43m(\u001b[49m\u001b[38;5;28;43mself\u001b[39;49m\u001b[43m,\u001b[49m\u001b[43m \u001b[49m\u001b[43mk\u001b[49m\u001b[43m,\u001b[49m\u001b[43m \u001b[49m\u001b[38;5;124;43m\"\u001b[39;49m\u001b[38;5;124;43mobs\u001b[39;49m\u001b[38;5;124;43m\"\u001b[39;49m\u001b[43m,\u001b[49m\u001b[43m \u001b[49m\u001b[38;5;124;43m\"\u001b[39;49m\u001b[38;5;124;43mvar\u001b[39;49m\u001b[38;5;124;43m\"\u001b[39;49m\u001b[43m,\u001b[49m\u001b[43m \u001b[49m\u001b[43mlayer\u001b[49m\u001b[38;5;241;43m=\u001b[39;49m\u001b[43mlayer\u001b[49m\u001b[43m)\u001b[49m\n",
      "File \u001b[0;32m~/miniconda3/envs/pytorch/lib/python3.9/site-packages/anndata/_core/index.py:221\u001b[0m, in \u001b[0;36mget_vector\u001b[0;34m(adata, k, coldim, idxdim, layer)\u001b[0m\n\u001b[1;32m    217\u001b[0m     \u001b[38;5;28;01mraise\u001b[39;00m \u001b[38;5;167;01mValueError\u001b[39;00m(\n\u001b[1;32m    218\u001b[0m         \u001b[38;5;124mf\u001b[39m\u001b[38;5;124m\"\u001b[39m\u001b[38;5;124mKey \u001b[39m\u001b[38;5;132;01m{\u001b[39;00mk\u001b[38;5;132;01m}\u001b[39;00m\u001b[38;5;124m could be found in both .\u001b[39m\u001b[38;5;132;01m{\u001b[39;00midxdim\u001b[38;5;132;01m}\u001b[39;00m\u001b[38;5;124m_names and .\u001b[39m\u001b[38;5;132;01m{\u001b[39;00mcoldim\u001b[38;5;132;01m}\u001b[39;00m\u001b[38;5;124m.columns\u001b[39m\u001b[38;5;124m\"\u001b[39m\n\u001b[1;32m    219\u001b[0m     )\n\u001b[1;32m    220\u001b[0m \u001b[38;5;28;01melif\u001b[39;00m (in_col \u001b[38;5;241m+\u001b[39m in_idx) \u001b[38;5;241m==\u001b[39m \u001b[38;5;241m0\u001b[39m:\n\u001b[0;32m--> 221\u001b[0m     \u001b[38;5;28;01mraise\u001b[39;00m \u001b[38;5;167;01mKeyError\u001b[39;00m(\n\u001b[1;32m    222\u001b[0m         \u001b[38;5;124mf\u001b[39m\u001b[38;5;124m\"\u001b[39m\u001b[38;5;124mCould not find key \u001b[39m\u001b[38;5;132;01m{\u001b[39;00mk\u001b[38;5;132;01m}\u001b[39;00m\u001b[38;5;124m in .\u001b[39m\u001b[38;5;132;01m{\u001b[39;00midxdim\u001b[38;5;132;01m}\u001b[39;00m\u001b[38;5;124m_names or .\u001b[39m\u001b[38;5;132;01m{\u001b[39;00mcoldim\u001b[38;5;132;01m}\u001b[39;00m\u001b[38;5;124m.columns.\u001b[39m\u001b[38;5;124m\"\u001b[39m\n\u001b[1;32m    223\u001b[0m     )\n\u001b[1;32m    224\u001b[0m \u001b[38;5;28;01melif\u001b[39;00m in_col:\n\u001b[1;32m    225\u001b[0m     \u001b[38;5;28;01mreturn\u001b[39;00m \u001b[38;5;28mgetattr\u001b[39m(adata, coldim)[k]\u001b[38;5;241m.\u001b[39mvalues\n",
      "\u001b[0;31mKeyError\u001b[0m: 'Could not find key cell_type in .var_names or .obs.columns.'"
     ]
    },
    {
     "data": {
      "text/plain": [
       "<Figure size 2183.4x480 with 0 Axes>"
      ]
     },
     "metadata": {},
     "output_type": "display_data"
    }
   ],
   "source": [
    "sc.pl.umap(adata, color = ['cell_type', 'predicted_labels', 'majority_voting'], legend_loc = 'on data')"
   ]
  },
  {
   "cell_type": "markdown",
   "id": "julian-mobile",
   "metadata": {
    "id": "julian-mobile"
   },
   "source": [
    "Actually, you may not need to explicitly convert `predictions` output by `celltypist.annotate` into an `AnnData` as above. A more useful way is to use the visualisation function [celltypist.dotplot](https://celltypist.readthedocs.io/en/latest/celltypist.dotplot.html), which quantitatively compares the CellTypist prediction result (e.g. `majority_voting` here) with the cell types pre-defined in the `AnnData` (here `cell_type`). You can also change the value of `use_as_prediction` to `predicted_labels` to compare the raw prediction result with the pre-defined cell types."
   ]
  },
  {
   "cell_type": "code",
   "execution_count": null,
   "id": "solved-weekly",
   "metadata": {
    "id": "solved-weekly",
    "outputId": "cee23ecd-1beb-4d82-baad-6c456ab7dfdf"
   },
   "outputs": [],
   "source": [
    "celltypist.dotplot(predictions, use_as_reference = 'cell_type', use_as_prediction = 'majority_voting')"
   ]
  },
  {
   "cell_type": "markdown",
   "id": "metallic-saskatchewan",
   "metadata": {
    "id": "metallic-saskatchewan"
   },
   "source": [
    "For each pre-defined cell type (each column from the dot plot), this plot shows how it can be 'decomposed' into different cell types predicted by CellTypist (rows)."
   ]
  },
  {
   "cell_type": "markdown",
   "id": "tender-maple",
   "metadata": {
    "id": "tender-maple"
   },
   "source": [
    "## Assign cell type labels using a custom model\n",
    "In this section, we show the procedure of generating a custom model and transferring labels from the model to the query data."
   ]
  },
  {
   "cell_type": "markdown",
   "id": "protected-counter",
   "metadata": {
    "id": "protected-counter",
    "tags": []
   },
   "source": [
    "Use previously downloaded dataset of 2,000 immune cells as the training set."
   ]
  },
  {
   "cell_type": "code",
   "execution_count": null,
   "id": "rotary-record",
   "metadata": {
    "id": "rotary-record"
   },
   "outputs": [],
   "source": [
    "adata_2000 = sc.read('celltypist_demo_folder/demo_2000_cells.h5ad', backup_url = 'https://celltypist.cog.sanger.ac.uk/Notebook_demo_data/demo_2000_cells.h5ad')"
   ]
  },
  {
   "cell_type": "markdown",
   "id": "headed-sierra",
   "metadata": {
    "id": "headed-sierra"
   },
   "source": [
    "Download another scRNA-seq dataset of 400 immune cells as a query."
   ]
  },
  {
   "cell_type": "code",
   "execution_count": null,
   "id": "closing-brain",
   "metadata": {
    "colab": {
     "referenced_widgets": [
      "60bb1bc2c899444ea88095e6713a8686"
     ]
    },
    "id": "closing-brain",
    "outputId": "92e03cf7-aab1-44e9-e4e3-998ed4455d6b"
   },
   "outputs": [],
   "source": [
    "adata_400 = sc.read('celltypist_demo_folder/demo_400_cells.h5ad', backup_url = 'https://celltypist.cog.sanger.ac.uk/Notebook_demo_data/demo_400_cells.h5ad')"
   ]
  },
  {
   "cell_type": "markdown",
   "id": "precise-bronze",
   "metadata": {
    "id": "precise-bronze",
    "tags": []
   },
   "source": [
    "Derive a custom model by training the data using the [celltypist.train](https://celltypist.readthedocs.io/en/latest/celltypist.train.html) function."
   ]
  },
  {
   "cell_type": "code",
   "execution_count": null,
   "id": "consistent-detective",
   "metadata": {
    "id": "consistent-detective",
    "outputId": "2101b273-233c-4b41-d391-e9b55d42c132",
    "tags": []
   },
   "outputs": [],
   "source": [
    "# The `cell_type` in `adata_2000.obs` will be used as cell type labels for training.\n",
    "new_model = celltypist.train(adata_2000, labels = 'cell_type', n_jobs = 10, feature_selection = True)"
   ]
  },
  {
   "cell_type": "markdown",
   "id": "remarkable-eating",
   "metadata": {
    "id": "remarkable-eating"
   },
   "source": [
    "Refer to the function [celltypist.train](https://celltypist.readthedocs.io/en/latest/celltypist.train.html) for what each parameter means, and to the [usage](https://github.com/Teichlab/celltypist#usage) for details of model training."
   ]
  },
  {
   "cell_type": "markdown",
   "id": "emerging-telephone",
   "metadata": {
    "id": "emerging-telephone"
   },
   "source": [
    "This custom model can be manipulated as with other CellTypist built-in models. First, save this model locally."
   ]
  },
  {
   "cell_type": "code",
   "execution_count": null,
   "id": "informal-ladder",
   "metadata": {
    "id": "informal-ladder"
   },
   "outputs": [],
   "source": [
    "# Save the model.\n",
    "new_model.write('celltypist_demo_folder/model_from_immune2000.pkl')"
   ]
  },
  {
   "cell_type": "markdown",
   "id": "sublime-oxygen",
   "metadata": {
    "id": "sublime-oxygen",
    "tags": []
   },
   "source": [
    "You can load this model by `models.Model.load`."
   ]
  },
  {
   "cell_type": "code",
   "execution_count": null,
   "id": "little-textbook",
   "metadata": {
    "id": "little-textbook"
   },
   "outputs": [],
   "source": [
    "new_model = models.Model.load('celltypist_demo_folder/model_from_immune2000.pkl')"
   ]
  },
  {
   "cell_type": "markdown",
   "id": "weighted-system",
   "metadata": {
    "id": "weighted-system"
   },
   "source": [
    "Next, we use this model to predict the query dataset of 400 immune cells."
   ]
  },
  {
   "cell_type": "code",
   "execution_count": null,
   "id": "forty-turning",
   "metadata": {
    "id": "forty-turning",
    "outputId": "a9e0b954-36f4-433f-8a07-00de88a8db04",
    "tags": []
   },
   "outputs": [],
   "source": [
    "# Not run; predict the identity of each input cell with the new model.\n",
    "#predictions = celltypist.annotate(adata_400, model = new_model, majority_voting = True)\n",
    "# Alternatively, just specify the model path (recommended as this ensures the model is intact every time it is loaded).\n",
    "predictions = celltypist.annotate(adata_400, model = 'celltypist_demo_folder/model_from_immune2000.pkl', majority_voting = True)"
   ]
  },
  {
   "cell_type": "code",
   "execution_count": null,
   "id": "liquid-happiness",
   "metadata": {
    "id": "liquid-happiness"
   },
   "outputs": [],
   "source": [
    "adata = predictions.to_adata()"
   ]
  },
  {
   "cell_type": "code",
   "execution_count": null,
   "id": "utility-sussex",
   "metadata": {
    "id": "utility-sussex"
   },
   "outputs": [],
   "source": [
    "sc.tl.umap(adata)"
   ]
  },
  {
   "cell_type": "code",
   "execution_count": null,
   "id": "sought-adult",
   "metadata": {
    "id": "sought-adult",
    "outputId": "28b9d1f3-8f2d-4e6b-83d4-9ac53bcfee55",
    "tags": []
   },
   "outputs": [],
   "source": [
    "sc.pl.umap(adata, color = ['cell_type', 'predicted_labels', 'majority_voting'], legend_loc = 'on data')"
   ]
  },
  {
   "cell_type": "code",
   "execution_count": null,
   "id": "liberal-strengthening",
   "metadata": {
    "id": "liberal-strengthening",
    "outputId": "912fc526-36f5-4605-b2ab-52366a909133"
   },
   "outputs": [],
   "source": [
    "celltypist.dotplot(predictions, use_as_reference = 'cell_type', use_as_prediction = 'majority_voting')"
   ]
  },
  {
   "cell_type": "markdown",
   "id": "australian-cherry",
   "metadata": {
    "id": "australian-cherry"
   },
   "source": [
    "## Examine expression of cell type-driving genes"
   ]
  },
  {
   "cell_type": "markdown",
   "id": "southern-female",
   "metadata": {
    "id": "southern-female"
   },
   "source": [
    "Each model can be examined in terms of the driving genes for each cell type. Note these genes are only dependent on the model, say, the training dataset."
   ]
  },
  {
   "cell_type": "code",
   "execution_count": null,
   "id": "liable-liechtenstein",
   "metadata": {
    "id": "liable-liechtenstein",
    "tags": []
   },
   "outputs": [],
   "source": [
    "# Any model can be inspected.\n",
    "# Here we load the previously saved model trained from 2,000 immune cells.\n",
    "model = models.Model.load(model = 'celltypist_demo_folder/model_from_immune2000.pkl')"
   ]
  },
  {
   "cell_type": "code",
   "execution_count": null,
   "id": "available-victor",
   "metadata": {
    "id": "available-victor",
    "outputId": "7fa134ae-dbf2-4838-a90d-c7ef441586a2"
   },
   "outputs": [],
   "source": [
    "model.cell_types"
   ]
  },
  {
   "cell_type": "markdown",
   "id": "pharmaceutical-remains",
   "metadata": {
    "id": "pharmaceutical-remains",
    "tags": []
   },
   "source": [
    "Extract the top three driving genes of `Mast cells` using the [extract_top_markers](https://celltypist.readthedocs.io/en/latest/celltypist.models.Model.html#celltypist.models.Model.extract_top_markers) method."
   ]
  },
  {
   "cell_type": "code",
   "execution_count": null,
   "id": "interracial-clone",
   "metadata": {
    "id": "interracial-clone",
    "outputId": "26de00d3-69f3-4a16-a77d-77faa041c8f6",
    "tags": []
   },
   "outputs": [],
   "source": [
    "top_3_genes = model.extract_top_markers(\"Mast cells\", 3)\n",
    "top_3_genes"
   ]
  },
  {
   "cell_type": "code",
   "execution_count": null,
   "id": "sealed-percentage",
   "metadata": {
    "id": "sealed-percentage",
    "outputId": "936bf259-2fa6-452c-83d5-913b98e9eb28",
    "tags": []
   },
   "outputs": [],
   "source": [
    "# Check expression of the three genes in the training set.\n",
    "sc.pl.violin(adata_2000, top_3_genes, groupby = 'cell_type', rotation = 90)"
   ]
  },
  {
   "cell_type": "code",
   "execution_count": null,
   "id": "yellow-prompt",
   "metadata": {
    "id": "yellow-prompt",
    "outputId": "560dc5ef-9daa-4ce3-aedd-795611016585"
   },
   "outputs": [],
   "source": [
    "# Check expression of the three genes in the query set.\n",
    "# Here we use `majority_voting` from CellTypist as the cell type labels for this dataset.\n",
    "sc.pl.violin(adata_400, top_3_genes, groupby = 'majority_voting', rotation = 90)"
   ]
  }
 ],
 "metadata": {
  "colab": {
   "provenance": []
  },
  "kernelspec": {
   "display_name": "pytorch",
   "language": "python",
   "name": "python3"
  },
  "language_info": {
   "codemirror_mode": {
    "name": "ipython",
    "version": 3
   },
   "file_extension": ".py",
   "mimetype": "text/x-python",
   "name": "python",
   "nbconvert_exporter": "python",
   "pygments_lexer": "ipython3",
   "version": "3.9.19"
  }
 },
 "nbformat": 4,
 "nbformat_minor": 5
}
