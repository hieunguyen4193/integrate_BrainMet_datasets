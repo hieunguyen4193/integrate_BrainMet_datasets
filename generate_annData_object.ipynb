{
 "cells": [
  {
   "cell_type": "code",
   "execution_count": 1,
   "id": "f0cc90d2",
   "metadata": {},
   "outputs": [
    {
     "name": "stdout",
     "output_type": "stream",
     "text": [
      "/media/hieunguyen/GSHD_HN01/outdir/BrainMet_SeuratV5/integrate_BrainMet_datasets/integrated_v0.2/seurat2anndata/from_12_output/integrated_BrainMet_dataset.output.s8/counts_integrated_BrainMet_dataset.output.s8_harmony.cluster.0.5.mtx\n"
     ]
    }
   ],
   "source": [
    "import scanpy as sc\n",
    "import numpy as np\n",
    "import os\n",
    "import anndata2ri\n",
    "import pathlib\n",
    "from scipy import io\n",
    "import anndata#\n",
    "import pandas as pd\n",
    "from tqdm import tqdm\n",
    "import argparse\n",
    "import sys\n",
    "\n",
    "# Activate the anndata2ri conversion between SingleCellExperiment and AnnData\n",
    "# anndata2ri.activate()\n",
    "\n",
    "#Loading the rpy2 extension enables cell magic to be used\n",
    "#This runs R code in jupyter notebook cells\n",
    "# %load_ext rpy2.ipython\n",
    "\n",
    "sc.settings.verbosity = 3\n",
    "# sc.logging.print_versions()\n",
    "\n",
    "import warnings\n",
    "warnings.filterwarnings(\"ignore\")\n",
    "    \n",
    "object_name = \"integrated_BrainMet_dataset.output.s8_harmony.cluster.0.5\"\n",
    "path_to_seurat2anndata = \"/media/hieunguyen/GSHD_HN01/outdir/BrainMet_SeuratV5/integrate_BrainMet_datasets/integrated_v0.2/seurat2anndata/from_12_output/integrated_BrainMet_dataset.output.s8\"\n",
    "os.makedirs(path_to_seurat2anndata, exist_ok=True)\n",
    "\n",
    "##### MAIN CONVERSION FUNCTIONS\n",
    "print(os.path.join(path_to_seurat2anndata, \"counts_{}.mtx\".format(object_name)))\n",
    "X = io.mmread(os.path.join(path_to_seurat2anndata, \"counts_{}.mtx\".format(object_name)))\n",
    "\n",
    "# create anndata object\n",
    "adata = anndata.AnnData(X=X.transpose().tocsr())\n",
    "\n",
    "# load cell metadata:\n",
    "cell_meta = pd.read_csv(os.path.join(path_to_seurat2anndata, \"metadata_{}.csv\".format(object_name)))\n",
    "\n",
    "# load gene names:\n",
    "with open(os.path.join(path_to_seurat2anndata, \"gene_names_{}.csv\".format(object_name)), 'r') as f:\n",
    "    gene_names = f.read().splitlines()\n",
    "\n",
    "# set anndata observations and index obs by barcodes, var by gene names\n",
    "adata.obs = cell_meta\n",
    "adata.obs.index = adata.obs['barcode']\n",
    "adata.var.index = gene_names\n",
    "\n",
    "# load dimensional reduction:\n",
    "pca = pd.read_csv(os.path.join(path_to_seurat2anndata, \"pca_{}.csv\".format(object_name)))\n",
    "pca.index = adata.obs.index\n",
    "\n",
    "# set pca and umap\n",
    "adata.obsm['X_pca'] = pca.to_numpy()\n",
    "adata.obsm['X_umap'] = np.vstack((adata.obs['UMAP_1'].to_numpy(), adata.obs['UMAP_2'].to_numpy())).T\n",
    "\n",
    "# save dataset as anndata format\n",
    "adata.write(os.path.join(path_to_seurat2anndata, '{}.h5ad'.format(object_name)))\n",
    "        "
   ]
  }
 ],
 "metadata": {
  "kernelspec": {
   "display_name": "pytorch",
   "language": "python",
   "name": "python3"
  },
  "language_info": {
   "codemirror_mode": {
    "name": "ipython",
    "version": 3
   },
   "file_extension": ".py",
   "mimetype": "text/x-python",
   "name": "python",
   "nbconvert_exporter": "python",
   "pygments_lexer": "ipython3",
   "version": "3.9.19"
  }
 },
 "nbformat": 4,
 "nbformat_minor": 5
}
